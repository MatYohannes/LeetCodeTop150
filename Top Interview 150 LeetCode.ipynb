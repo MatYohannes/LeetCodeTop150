{
 "cells": [
  {
   "cell_type": "code",
   "execution_count": 31,
   "id": "b694daca",
   "metadata": {},
   "outputs": [
    {
     "ename": "SyntaxError",
     "evalue": "invalid syntax (705501676.py, line 1)",
     "output_type": "error",
     "traceback": [
      "\u001b[1;36m  Input \u001b[1;32mIn [31]\u001b[1;36m\u001b[0m\n\u001b[1;33m    I can be placed before V (5) and X (10) to make 4 and 9.\u001b[0m\n\u001b[1;37m      ^\u001b[0m\n\u001b[1;31mSyntaxError\u001b[0m\u001b[1;31m:\u001b[0m invalid syntax\n"
     ]
    }
   ],
   "source": [
    "\n",
    "    I can be placed before V (5) and X (10) to make 4 and 9. \n",
    "    X can be placed before L (50) and C (100) to make 40 and 90. \n",
    "    C can be placed before D (500) and M (1000) to make 400 and 900.\n"
   ]
  },
  {
   "cell_type": "code",
   "execution_count": 33,
   "id": "e3d703d0",
   "metadata": {},
   "outputs": [],
   "source": [
    "s = \"III\"\n",
    "#s = \"LVIII\"\n",
    "#s = \"MCMXCIV\""
   ]
  },
  {
   "cell_type": "code",
   "execution_count": 37,
   "id": "dad1f3bc",
   "metadata": {},
   "outputs": [
    {
     "data": {
      "text/plain": [
       "'III'"
      ]
     },
     "execution_count": 37,
     "metadata": {},
     "output_type": "execute_result"
    }
   ],
   "source": []
  },
  {
   "cell_type": "code",
   "execution_count": null,
   "id": "f1ddc468",
   "metadata": {},
   "outputs": [],
   "source": []
  }
 ],
 "metadata": {
  "kernelspec": {
   "display_name": "Python 3 (ipykernel)",
   "language": "python",
   "name": "python3"
  },
  "language_info": {
   "codemirror_mode": {
    "name": "ipython",
    "version": 3
   },
   "file_extension": ".py",
   "mimetype": "text/x-python",
   "name": "python",
   "nbconvert_exporter": "python",
   "pygments_lexer": "ipython3",
   "version": "3.9.12"
  }
 },
 "nbformat": 4,
 "nbformat_minor": 5
}
