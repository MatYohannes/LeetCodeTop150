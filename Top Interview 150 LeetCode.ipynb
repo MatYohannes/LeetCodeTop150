{
 "cells": [
  {
   "cell_type": "markdown",
   "id": "eebd0a08",
   "metadata": {},
   "source": [
    "## Top Interview 150 from LeetCode\n",
    "\n",
    "### Categories are as follows:\n",
    "* Array/String\n",
    "* Two Pointers\n",
    "* Sliding Window\n",
    "* Matrix\n",
    "* Hashmap\n",
    "* Intervals\n",
    "* Stack\n",
    "* Linked List\n",
    "* Binary Tree General\n",
    "* Binary Tree BFS\n",
    "* Binary Search Tree\n",
    "* Graph General\n",
    "* Graph BFS\n",
    "* Trie\n",
    "* Backtracking\n",
    "* Divide & Conquer\n",
    "* Kadane's Algorithm\n",
    "* Binary Search\n",
    "* Heap\n",
    "* Bit Manipulation\n",
    "* Math\n",
    "* 1D DP\n",
    "* Multidimensional DP\n",
    "\n",
    "source of the list:\n",
    "https://leetcode.com/studyplan/top-interview-150/"
   ]
  },
  {
   "cell_type": "markdown",
   "id": "4005366a",
   "metadata": {},
   "source": [
    "## Array / String"
   ]
  },
  {
   "cell_type": "markdown",
   "id": "bb8ffdf2",
   "metadata": {},
   "source": [
    "### Merge Sorted Array"
   ]
  },
  {
   "cell_type": "code",
   "execution_count": 9,
   "id": "08e2e695",
   "metadata": {},
   "outputs": [],
   "source": [
    "# You are given two integer arrays nums1 and nums2,\n",
    "# sorted in non-decreasing order, and two integers m and n,\n",
    "# representing the number of elements in nums1 and nums2 respectively.\n",
    "\n",
    "nums1 = [1,2,3,0,0,0]\n",
    "m = 3\n",
    "nums2 = [2,5,6]\n",
    "n = 3"
   ]
  },
  {
   "cell_type": "code",
   "execution_count": 10,
   "id": "02aeb5d0",
   "metadata": {},
   "outputs": [
    {
     "data": {
      "text/plain": [
       "[1, 2, 2, 3, 5, 6]"
      ]
     },
     "execution_count": 10,
     "metadata": {},
     "output_type": "execute_result"
    }
   ],
   "source": [
    "# For this example, we are to take the elements from nums2 and insert then into nums1\n",
    "# and replace the zeros\n",
    "\n",
    "for i in range(n):\n",
    "    nums1[m+i] = nums2[i]\n",
    "\n",
    "nums1.sort()\n",
    "nums1\n",
    "# To sort the numbers in nums1 in-place, use method '.sort()' instead of 'sorted()'"
   ]
  },
  {
   "cell_type": "markdown",
   "id": "1fa3a385",
   "metadata": {},
   "source": [
    "### Remove Element"
   ]
  },
  {
   "cell_type": "code",
   "execution_count": 27,
   "id": "b90cd274",
   "metadata": {},
   "outputs": [],
   "source": [
    "# Given an integer array nums and an integer val, remove all occurrences of val\n",
    "# in nums in-place. The order of the elements may be changed. Then return the \n",
    "# number of elements in nums which are not equal to val.\n",
    "\n",
    "nums = [3,2,2,3]\n",
    "val = 3"
   ]
  },
  {
   "cell_type": "code",
   "execution_count": 28,
   "id": "a77a3ee8",
   "metadata": {},
   "outputs": [
    {
     "data": {
      "text/plain": [
       "([2, 2, 2, 3], 2)"
      ]
     },
     "execution_count": 28,
     "metadata": {},
     "output_type": "execute_result"
    }
   ],
   "source": [
    "i = 0\n",
    "for x in nums:\n",
    "    if x != val:\n",
    "        nums[i] = x\n",
    "        i+=1\n",
    "nums, i"
   ]
  },
  {
   "cell_type": "markdown",
   "id": "fa93a46b",
   "metadata": {},
   "source": [
    "### Remove Duplicates from Sorted Array"
   ]
  },
  {
   "cell_type": "code",
   "execution_count": 34,
   "id": "4beaafa2",
   "metadata": {},
   "outputs": [],
   "source": [
    "# Given an integer array nums sorted in non-decreasing order,\n",
    "# remove the duplicates in-place such that each unique element \n",
    "# appears only once. The relative order of the elements should be\n",
    "# kept the same. Then return the number of unique elements in nums.\n",
    "\n",
    "nums = [1,1,2]"
   ]
  },
  {
   "cell_type": "code",
   "execution_count": 33,
   "id": "a09c17b2",
   "metadata": {},
   "outputs": [
    {
     "data": {
      "text/plain": [
       "[1, 2]"
      ]
     },
     "execution_count": 33,
     "metadata": {},
     "output_type": "execute_result"
    }
   ],
   "source": [
    "nums[:] = list(set(nums))\n",
    "nums"
   ]
  },
  {
   "cell_type": "markdown",
   "id": "37c9f4d4",
   "metadata": {},
   "source": [
    "### Remove Duplicates from Sorted Array II"
   ]
  },
  {
   "cell_type": "code",
   "execution_count": 55,
   "id": "7e7f438a",
   "metadata": {},
   "outputs": [],
   "source": [
    "# Given an integer array nums sorted in non-decreasing order, \n",
    "# remove some duplicates in-place such that each unique element\n",
    "# appears at most twice. The relative order of the elements should \n",
    "# be kept the same.\n",
    "\n",
    "nums = [1,1,1,2,2,3]"
   ]
  },
  {
   "cell_type": "code",
   "execution_count": 47,
   "id": "98240bfd",
   "metadata": {},
   "outputs": [
    {
     "data": {
      "text/plain": [
       "[1, 1, 2, 2, 3]"
      ]
     },
     "execution_count": 47,
     "metadata": {},
     "output_type": "execute_result"
    }
   ],
   "source": [
    "# Easiest to write but didn't pass all tests\n",
    "\n",
    "for x in nums:\n",
    "    if nums.count(x) > 2:\n",
    "        nums.pop(nums.index(x))\n",
    "nums"
   ]
  },
  {
   "cell_type": "code",
   "execution_count": 57,
   "id": "fac3d01d",
   "metadata": {},
   "outputs": [
    {
     "data": {
      "text/plain": [
       "[1, 1, 2, 2, 3, 3]"
      ]
     },
     "execution_count": 57,
     "metadata": {},
     "output_type": "execute_result"
    }
   ],
   "source": [
    "# k keeps track of the pointer and increments only when there are less than two values\n",
    "# and if there are two values in, it compares the third value to the first pair and inserts\n",
    "# only if there is no match\n",
    "k = 0\n",
    "\n",
    "for x in nums:\n",
    "    if k < 2 or x != nums[k-2]:\n",
    "        nums[k] = x\n",
    "        k += 1\n",
    "nums"
   ]
  },
  {
   "cell_type": "code",
   "execution_count": null,
   "id": "f093bec0",
   "metadata": {},
   "outputs": [],
   "source": []
  }
 ],
 "metadata": {
  "kernelspec": {
   "display_name": "Python 3 (ipykernel)",
   "language": "python",
   "name": "python3"
  },
  "language_info": {
   "codemirror_mode": {
    "name": "ipython",
    "version": 3
   },
   "file_extension": ".py",
   "mimetype": "text/x-python",
   "name": "python",
   "nbconvert_exporter": "python",
   "pygments_lexer": "ipython3",
   "version": "3.9.12"
  }
 },
 "nbformat": 4,
 "nbformat_minor": 5
}
