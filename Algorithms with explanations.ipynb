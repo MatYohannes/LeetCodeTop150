{
 "cells": [
  {
   "cell_type": "markdown",
   "id": "33161e58",
   "metadata": {},
   "source": [
    "### Matrix Diagonal Sum\n",
    "Given a square matrix mat, return the sum of the matrix diagonals.\n",
    "Only include the sum of all the elements on the primary diagonal and all the elements on the secondary diagonal that are not part of the primary diagonal.\n"
   ]
  },
  {
   "cell_type": "code",
   "execution_count": 7,
   "id": "be27609d",
   "metadata": {},
   "outputs": [],
   "source": [
    "# Primary diagonal is 1, 5, 9\n",
    "# Secondary diagonal is 3, 5, 9\n",
    "# Do not add 5 again to the summed total\n",
    "mat = [[1,2,3],\n",
    "      [4,5,6],\n",
    "      [7,8,9]]\n",
    "\n",
    "mat = [[1,1,1,1],\n",
    "      [1,1,1,1],\n",
    "      [1,1,1,1],\n",
    "      [1,1,1,1]]"
   ]
  },
  {
   "cell_type": "code",
   "execution_count": 8,
   "id": "385e2382",
   "metadata": {},
   "outputs": [
    {
     "data": {
      "text/plain": [
       "8"
      ]
     },
     "execution_count": 8,
     "metadata": {},
     "output_type": "execute_result"
    }
   ],
   "source": [
    "# create a variablet to collect summed values\n",
    "summed = 0\n",
    "\n",
    "for i in range(len(mat)):\n",
    "    '''\n",
    "    when row and col values are the same, meaning primary diagonal values,\n",
    "    add to the summed value.\n",
    "    To get the secondary diagonal, when iterating, len(mat) 1 - i will get \n",
    "    the opposite diagonal.\n",
    "    ''' \n",
    "    summed += mat[i][i]\n",
    "    summed += mat[i][len(mat)-1-i]\n",
    "\n",
    "    '''\n",
    "    If the has odd number of rows and cols, the central value is added to the summed\n",
    "    twice. To remove it, check the length of the matrix to see if it is odd. If it \n",
    "    is, delete the center value\n",
    "    '''\n",
    "if len(mat) % 2 != 0:\n",
    "    summed -= mat[len(mat)//2][len(mat)//2]\n",
    "    \n",
    "summed"
   ]
  },
  {
   "cell_type": "markdown",
   "id": "4cba15ec",
   "metadata": {},
   "source": [
    "### Minimum Time Visiting All Points\n",
    "You are provided a list of x-y coordinates in a list.\n",
    "When traversing the points,\n",
    "a vertical step forward is 1 point,\n",
    "a horizontal step forward is 1 point,\n",
    "and a diagonal step forward is 1 point.\n",
    "return the total steps to traversal from start to end."
   ]
  },
  {
   "cell_type": "code",
   "execution_count": 9,
   "id": "f59621f7",
   "metadata": {},
   "outputs": [],
   "source": [
    "points = [[1,1],[3,4],[-1,0]]"
   ]
  },
  {
   "cell_type": "code",
   "execution_count": 10,
   "id": "82bae76c",
   "metadata": {},
   "outputs": [
    {
     "data": {
      "text/plain": [
       "7"
      ]
     },
     "execution_count": 10,
     "metadata": {},
     "output_type": "execute_result"
    }
   ],
   "source": [
    "'''To compare two sets of points, we will zip then together but\n",
    "have a different of one to get the current point and the next point\n",
    "'''\n",
    "# to collect the number of steps\n",
    "summed = 0\n",
    "for (x1, y1), (x2, y2) in zip(points, points[1:]):\n",
    "    '''\n",
    "    To find the distance between 2 points, sub the x and y coordinates\n",
    "    to find the number of steps, we will take the greatest change between\n",
    "    the x and y coordinates and add it to summed.\n",
    "    Remember to take the absolute of the difference\n",
    "    '''\n",
    "    \n",
    "    summed += max(abs(x2-x1), abs(y2-y1))\n",
    "summed\n",
    "    "
   ]
  },
  {
   "cell_type": "code",
   "execution_count": null,
   "id": "4fd59d72",
   "metadata": {},
   "outputs": [],
   "source": []
  }
 ],
 "metadata": {
  "kernelspec": {
   "display_name": "Python 3 (ipykernel)",
   "language": "python",
   "name": "python3"
  },
  "language_info": {
   "codemirror_mode": {
    "name": "ipython",
    "version": 3
   },
   "file_extension": ".py",
   "mimetype": "text/x-python",
   "name": "python",
   "nbconvert_exporter": "python",
   "pygments_lexer": "ipython3",
   "version": "3.9.12"
  }
 },
 "nbformat": 4,
 "nbformat_minor": 5
}
