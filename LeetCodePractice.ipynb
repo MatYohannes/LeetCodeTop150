{
 "cells": [
  {
   "cell_type": "code",
   "execution_count": null,
   "id": "cfc10696",
   "metadata": {},
   "outputs": [],
   "source": [
    "heights = [5, 4, 3, 2, 1]"
   ]
  },
  {
   "cell_type": "code",
   "execution_count": null,
   "id": "2ade40ed",
   "metadata": {},
   "outputs": [],
   "source": [
    "count = 0\n",
    "for i in range(0, len(heights)):\n",
    "    if heights[i] != sorted(heights)[i]:\n",
    "        count += 1"
   ]
  },
  {
   "cell_type": "code",
   "execution_count": null,
   "id": "bebc0feb",
   "metadata": {},
   "outputs": [],
   "source": [
    "class Solution1:\n",
    "    def heightChecker(self, heights) -> int:\n",
    "        return sum(h!=s for h, s in zip(heights, sorted(heights)))"
   ]
  },
  {
   "cell_type": "code",
   "execution_count": null,
   "id": "43abdbe3",
   "metadata": {},
   "outputs": [],
   "source": [
    "nums = [2, 7, 1, 11]\n",
    "target = 9"
   ]
  },
  {
   "cell_type": "code",
   "execution_count": null,
   "id": "f1d59d9c",
   "metadata": {},
   "outputs": [],
   "source": [
    "class Solution2:\n",
    "    def twoSum(self, nums, target):\n",
    "        numToIndex = {}\n",
    "        for i in range(len(nums)):\n",
    "            if target - nums[i] in numToIndex:\n",
    "                return [numToIndex[target - nums[i]], i]\n",
    "            numToIndex[nums[i]] = i\n",
    "        return []"
   ]
  },
  {
   "cell_type": "code",
   "execution_count": null,
   "id": "168de705",
   "metadata": {},
   "outputs": [],
   "source": [
    "solution2 = Solution2()\n",
    "solution2.twoSum(nums, target)"
   ]
  },
  {
   "cell_type": "code",
   "execution_count": null,
   "id": "f91f4b2c",
   "metadata": {},
   "outputs": [],
   "source": [
    "# Palindrome Number\n",
    "x = 1505646"
   ]
  },
  {
   "cell_type": "code",
   "execution_count": null,
   "id": "8e1ffe36",
   "metadata": {},
   "outputs": [],
   "source": [
    "class Solution3(object):\n",
    "    def isPalindrome(self, x):\n",
    "        if x < 0:\n",
    "            return False\n",
    "        return str(x) == str(x)[::-1]"
   ]
  },
  {
   "cell_type": "code",
   "execution_count": null,
   "id": "4e706ec3",
   "metadata": {},
   "outputs": [],
   "source": [
    "solution3 = Solution3()\n",
    "solution3.isPalindrome(x)"
   ]
  },
  {
   "cell_type": "code",
   "execution_count": null,
   "id": "2a449738",
   "metadata": {},
   "outputs": [],
   "source": [
    "# Roman to Integer\n",
    "class Solution4(object):\n",
    "    def romanToInt(self, s):\n",
    "        \"\"\"\n",
    "        :type s: str\n",
    "        :rtype: int\n",
    "        \"\"\"\n",
    "        value = 0\n",
    "        translate = {\"I\": 1, \"V\": 5, \"X\": 10, \"L\": 50, \"C\": 100, \"D\": 500, \"M\": 1000}\n",
    "        s = s.replace(\"CM\", \"DCCCC\").replace(\"CD\", \"CCCC\").replace(\"XL\", \"XXXX\").replace(\"XC\", \"LXXXX\").replace(\"IV\", \"IIII\").replace(\"IX\", \"VIIII\")\n",
    "\n",
    "        for char in s:\n",
    "            value += translate[char]\n",
    "        return value\n",
    "            "
   ]
  },
  {
   "cell_type": "code",
   "execution_count": null,
   "id": "1dd0e5ca",
   "metadata": {},
   "outputs": [],
   "source": []
  },
  {
   "cell_type": "code",
   "execution_count": null,
   "id": "b5bf2aae",
   "metadata": {},
   "outputs": [],
   "source": [
    "strs = [\"flower\",\"flow\",\"flight\"]"
   ]
  },
  {
   "cell_type": "code",
   "execution_count": null,
   "id": "99eec7f6",
   "metadata": {},
   "outputs": [],
   "source": [
    "class Solution5(object):\n",
    "    def longestCommonPrefix(self, strs):\n",
    "        \"\"\"\n",
    "        :type strs: List[str]\n",
    "        :rtype: str\n",
    "        \"\"\"\n",
    "        temp = list(zip(*strs))\n",
    "        words = \"\"\n",
    "        for i in range(len(temp)):\n",
    "            if len(set(temp[i])) == 1:\n",
    "                word = set(temp[i])\n",
    "                words += word.pop()\n",
    "        return words"
   ]
  },
  {
   "cell_type": "code",
   "execution_count": null,
   "id": "b9b84dbd",
   "metadata": {},
   "outputs": [],
   "source": [
    "print(*strs)"
   ]
  },
  {
   "cell_type": "code",
   "execution_count": null,
   "id": "645f50b2",
   "metadata": {},
   "outputs": [],
   "source": [
    "solution5 = Solution5()\n",
    "solution5.longestCommonPrefix(strs)"
   ]
  },
  {
   "cell_type": "code",
   "execution_count": null,
   "id": "7d885597",
   "metadata": {},
   "outputs": [],
   "source": [
    "class Solution6(object):\n",
    "    def isValid(self, s):\n",
    "        \"\"\"\n",
    "        :type s: str\n",
    "        :rtype: bool\n",
    "        \"\"\"\n",
    "        brackets = {\n",
    "        \"(\": \")\",\n",
    "        \"[\": \"]\",\n",
    "        \"{\": \"}\"\n",
    "        }\n",
    "\n",
    "        status = True\n",
    "\n",
    "        for i in nt:\n",
    "            if i in [\"(\", \"[\", \"{\"]:\n",
    "                nt.remove(i)\n",
    "                nt.insert(0, i)\n",
    "            elif i in [\")\", \"]\", \"}\"]:\n",
    "                status = brackets.get(nt[0]) == i\n",
    "                nt.pop()\n",
    "                break\n",
    "        \n",
    "        return status\n"
   ]
  },
  {
   "cell_type": "code",
   "execution_count": null,
   "id": "35fdd89f",
   "metadata": {},
   "outputs": [],
   "source": [
    "s = \"()\"\n",
    "t = \"()[]{}\"\n",
    "u = \"([{}])\"\n",
    "v = \"(){}}{\""
   ]
  },
  {
   "cell_type": "code",
   "execution_count": null,
   "id": "6404eae2",
   "metadata": {},
   "outputs": [],
   "source": [
    "nt = list(v)\n"
   ]
  },
  {
   "cell_type": "code",
   "execution_count": null,
   "id": "39806f06",
   "metadata": {},
   "outputs": [],
   "source": [
    "nt"
   ]
  },
  {
   "cell_type": "code",
   "execution_count": null,
   "id": "2c74d49a",
   "metadata": {},
   "outputs": [],
   "source": [
    "brackets = {\n",
    "    \"(\": \")\",\n",
    "    \"[\": \"]\",\n",
    "    \"{\": \"}\"\n",
    "}\n",
    "\n",
    "status = False\n",
    "\n",
    "for i in nt:\n",
    "    if i in [\"(\", \"[\", \"{\"]:\n",
    "        nt.remove(i)\n",
    "        nt.insert(0, i)\n",
    "    elif i in [\")\", \"]\", \"}\"]:\n",
    "        status = brackets.get(nt[0]) == i\n",
    "        nt.pop()\n",
    "        break  "
   ]
  },
  {
   "cell_type": "code",
   "execution_count": null,
   "id": "dca15034",
   "metadata": {},
   "outputs": [],
   "source": [
    "status"
   ]
  },
  {
   "cell_type": "code",
   "execution_count": null,
   "id": "e94b10a9",
   "metadata": {},
   "outputs": [],
   "source": [
    "class Solution6(object):\n",
    "    def isValid(self, s):\n",
    "        tempStack = []\n",
    "        for i in s:\n",
    "            if i in '([{':\n",
    "                tempStack.append(i)\n",
    "            else:\n",
    "                if not tempStack or \\\n",
    "                (i == ')' and tempStack[-1] !='(') or \\\n",
    "                (i == ']' and tempStack[-1] !='[') or \\\n",
    "                (i == '}' and tempStack[-1] !='{'):\n",
    "                    return False\n",
    "                tempStack.pop()\n",
    "        return not tempStack\n",
    "            "
   ]
  },
  {
   "cell_type": "code",
   "execution_count": null,
   "id": "422dc8df",
   "metadata": {},
   "outputs": [],
   "source": [
    "solution6 = Solution6()\n",
    "solution6.isValid(s)"
   ]
  },
  {
   "cell_type": "code",
   "execution_count": null,
   "id": "29379d2b",
   "metadata": {},
   "outputs": [],
   "source": [
    "class ListNode(object):\n",
    "    def __init__(self, val=0, next=None):\n",
    "        self.val = val\n",
    "        self.next = next"
   ]
  },
  {
   "cell_type": "code",
   "execution_count": null,
   "id": "3c36e404",
   "metadata": {},
   "outputs": [],
   "source": [
    "# list1 = [1,2,4], list2 = [1,3,4]\n",
    "node1 = ListNode(1)\n",
    "node2 = ListNode(2)\n",
    "node3 = ListNode(4)\n",
    "\n",
    "\n",
    "node4 = ListNode(7)\n",
    "node5 = ListNode(3)\n",
    "node6 = ListNode(4)\n"
   ]
  },
  {
   "cell_type": "code",
   "execution_count": null,
   "id": "7c6ef733",
   "metadata": {},
   "outputs": [],
   "source": [
    "node1.next = node2\n",
    "node2.next = node3\n",
    "\n",
    "node4.next = node5\n",
    "node5.next = node6\n",
    "\n"
   ]
  },
  {
   "cell_type": "code",
   "execution_count": null,
   "id": "5b583278",
   "metadata": {},
   "outputs": [],
   "source": [
    "temp_node1 = node1\n",
    "temp_node2 = node2\n",
    "list3 = []\n",
    "while temp_node1 != None and temp_node2 != None:\n",
    "    list3.append(temp_node1.val)\n",
    "    list3.append(temp_node2.val)\n",
    "\n",
    "    temp_node1 = temp_node1.next\n",
    "    temp_node2 = temp_node2.next\n",
    "    list3.sort()\n",
    "\n",
    "#list3\n",
    "\n"
   ]
  },
  {
   "cell_type": "code",
   "execution_count": null,
   "id": "ca91fc9a",
   "metadata": {},
   "outputs": [],
   "source": []
  },
  {
   "cell_type": "code",
   "execution_count": null,
   "id": "1bb3c5db",
   "metadata": {},
   "outputs": [],
   "source": [
    "list3"
   ]
  },
  {
   "cell_type": "code",
   "execution_count": null,
   "id": "ce115a63",
   "metadata": {},
   "outputs": [],
   "source": [
    "# Definition for singly-linked list.\n",
    "# class ListNode(object):\n",
    "#     def __init__(self, val=0, next=None):\n",
    "#         self.val = val\n",
    "#         self.next = next\n",
    "class Solution7(object):\n",
    "    def mergeTwoLists(self, list1, list2):\n",
    "        \"\"\"\n",
    "        :type list1: Optional[ListNode]\n",
    "        :type list2: Optional[ListNode]\n",
    "        :rtype: Optional[ListNode]\n",
    "        \"\"\"\n",
    "        list3 = []\n",
    "        if list1.next == None:\n",
    "            return 0\n",
    "        elif list2.next == None:\n",
    "            return 0\n",
    "        else:\n",
    "            list3.append(list1.val)\n",
    "            list3.append(list2.val)\n",
    "            self.mergeTwoLists(list1.next, list2.next)\n",
    "        \n",
    "        return list3\n",
    "\n",
    "        "
   ]
  },
  {
   "cell_type": "code",
   "execution_count": null,
   "id": "907dcec2",
   "metadata": {},
   "outputs": [],
   "source": [
    "solution7 = Solution7()\n",
    "solution7.mergeTwoLists(node1, node4)"
   ]
  },
  {
   "cell_type": "markdown",
   "id": "d2c5840b",
   "metadata": {},
   "source": [
    "### Search Insert Position"
   ]
  },
  {
   "cell_type": "code",
   "execution_count": null,
   "id": "c551ffc2",
   "metadata": {},
   "outputs": [],
   "source": [
    "nums =[1,3,5,6]\n",
    "target = 7"
   ]
  },
  {
   "cell_type": "code",
   "execution_count": null,
   "id": "ad4a1ae4",
   "metadata": {},
   "outputs": [],
   "source": [
    "low = 0\n",
    "high = len(nums) -1\n",
    "\n",
    "while low <= high:\n",
    "    mid = (low + high) // 2\n",
    "    if nums[mid] == target:\n",
    "        print(mid)\n",
    "    if target < nums[mid]:\n",
    "        high = mid - 1\n",
    "    elif target > nums[mid]:\n",
    "        low = mid + 1\n",
    "print(low)\n",
    "        "
   ]
  },
  {
   "cell_type": "markdown",
   "id": "2a2a1aa6",
   "metadata": {},
   "source": [
    "### Search a 2D Matrix\n"
   ]
  },
  {
   "cell_type": "code",
   "execution_count": null,
   "id": "bc662cdf",
   "metadata": {},
   "outputs": [],
   "source": [
    "matrix = [[1,3,5,7],\n",
    "          [10,11,16,20],\n",
    "          [23,30,34,60]]\n",
    "target = 3"
   ]
  },
  {
   "cell_type": "code",
   "execution_count": null,
   "id": "69af822a",
   "metadata": {},
   "outputs": [],
   "source": [
    "rows = len(matrix)\n",
    "cols = len(matrix[0])\n",
    "low = 0\n",
    "high = rows * cols - 1\n",
    "\n",
    "while low <= high:\n",
    "    mid = (low + high) // 2\n",
    "    num = matrix[low // cols][high % cols]\n",
    "    \n",
    "    if target == num:\n",
    "        print(True)\n",
    "    \n",
    "    if target < num:\n",
    "        high = mid - 1\n",
    "    else:\n",
    "        low = mid + 1\n",
    "        \n",
    "print(False)"
   ]
  },
  {
   "cell_type": "markdown",
   "id": "048116a8",
   "metadata": {},
   "source": [
    "### Find a Peak Element"
   ]
  },
  {
   "cell_type": "code",
   "execution_count": null,
   "id": "ccdf70fa",
   "metadata": {},
   "outputs": [],
   "source": [
    "nums = [1,2]"
   ]
  },
  {
   "cell_type": "code",
   "execution_count": null,
   "id": "8f836a16",
   "metadata": {},
   "outputs": [],
   "source": [
    "peak = 0\n",
    "if len(nums) == 1:\n",
    "    print(peak)\n",
    "if len(nums) == 2:\n",
    "    print(nums[1])\n",
    "for i in range(1, len(nums) - 1):\n",
    "    if nums[i-1] < nums[i] and nums[i] > nums[i+1] and nums[i] > peak:\n",
    "        peak = i\n",
    "peak"
   ]
  },
  {
   "cell_type": "code",
   "execution_count": null,
   "id": "54d38fbf",
   "metadata": {},
   "outputs": [],
   "source": [
    "left = 0\n",
    "right = len(nums) - 1\n",
    "\n",
    "while left < right:\n",
    "    mid = (left + right) // 2\n",
    "    if nums[mid] > nums[mid+1] and nums[mid] > nums[mid+1]:\n",
    "        print(mid)\n",
    "    \n",
    "    if nums[mid] < nums[mid+1]:\n",
    "        left = mid+1\n",
    "    else:\n",
    "        right = mid-1\n",
    "if len(nums) <= 2 and nums[left] >= nums[right]:\n",
    "    print(left)\n",
    "else:\n",
    "    print(right)\n",
    "    "
   ]
  },
  {
   "cell_type": "code",
   "execution_count": null,
   "id": "7b95150d",
   "metadata": {},
   "outputs": [],
   "source": [
    "ransomNote = \"a\"\n",
    "magazine = \"b\""
   ]
  },
  {
   "cell_type": "code",
   "execution_count": null,
   "id": "3d7e5f74",
   "metadata": {},
   "outputs": [],
   "source": [
    "def canConstruct(ransomNote, magazine):\n",
    "    hashMap = {}\n",
    "    for char in magazine:\n",
    "        if char not in hashMap:\n",
    "            hashMap[char] = 1\n",
    "        else:\n",
    "            hashMap[char] += 1\n",
    "\n",
    "    for char in ransomNote:\n",
    "        if char in hashMap:\n",
    "            hashMap[char] -= 1\n",
    "        else:\n",
    "            return False\n",
    "        \n",
    "    return True"
   ]
  },
  {
   "cell_type": "code",
   "execution_count": null,
   "id": "e5a5690b",
   "metadata": {},
   "outputs": [],
   "source": [
    "canConstruct(ransomNote, magazine)"
   ]
  },
  {
   "cell_type": "code",
   "execution_count": null,
   "id": "f779e49e",
   "metadata": {},
   "outputs": [],
   "source": [
    "s = \"egg\"\n",
    "t = \"add\"\n",
    "s = \"foo\"\n",
    "t = \"bar\"\n",
    "s = \"paper\"\n",
    "t = \"title\""
   ]
  },
  {
   "cell_type": "code",
   "execution_count": null,
   "id": "0af87ebf",
   "metadata": {},
   "outputs": [],
   "source": [
    "def isIsomorphic(s, t):\n",
    "    dict1 = {}\n",
    "    dict2 = {}\n",
    "    for i in range(len(s)):\n",
    "        if s[i] not in dict1:\n",
    "            dict1[s[i]] = 1\n",
    "        else:\n",
    "            dict1[s[i]] +=1\n",
    "\n",
    "        if t[i] not in dict2:\n",
    "            dict2[t[i]] = 1\n",
    "        else:\n",
    "            dict2[t[i]] +=1\n",
    "\n",
    "    return list(dict1.values()) == list(dict2.values())"
   ]
  },
  {
   "cell_type": "code",
   "execution_count": null,
   "id": "9121fb1d",
   "metadata": {},
   "outputs": [],
   "source": [
    "s = \"anagram\"\n",
    "t = \"nagaram\"\n",
    "# s =\"a\"\n",
    "# t =\"ab\"\n",
    "# s =\"aacc\"\n",
    "# t =\"ccac\""
   ]
  },
  {
   "cell_type": "code",
   "execution_count": null,
   "id": "6c4a5551",
   "metadata": {},
   "outputs": [],
   "source": [
    "dict1 = {}\n",
    "dict2 = {}\n",
    "\n",
    "for i in range(len(s)):\n",
    "    if s[i] not in dict1:\n",
    "        dict1[s[i]] = 1\n",
    "    else:\n",
    "        dict1[s[i]] += 1\n",
    "\n",
    "    if t[i] not in dict2:\n",
    "        dict2[t[i]] = 1\n",
    "    else:\n",
    "        dict2[t[i]] += 1\n",
    "\n",
    "dict1 == dict2"
   ]
  },
  {
   "cell_type": "code",
   "execution_count": null,
   "id": "9fd919b7",
   "metadata": {},
   "outputs": [],
   "source": [
    "strs = [\"eat\",\"tea\",\"tan\",\"ate\",\"nat\",\"bat\"]"
   ]
  },
  {
   "cell_type": "code",
   "execution_count": null,
   "id": "235a5fa1",
   "metadata": {},
   "outputs": [],
   "source": [
    "dict4 = {}\n",
    "\n",
    "for string in strs:\n",
    "    sorted_string = \"\".join(sorted(string))\n",
    "    \n",
    "    if sorted_string not in dict4:\n",
    "        dict4[sorted_string] = []\n",
    "    dict4[sorted_string].append(sorted_string)\n",
    "\n",
    "sorted(dict4.values(), key=len)"
   ]
  },
  {
   "cell_type": "code",
   "execution_count": null,
   "id": "d083246e",
   "metadata": {},
   "outputs": [],
   "source": [
    "nums = [2,7,11,15]\n",
    "target = 18\n",
    "nums =[3,2,4]\n",
    "target =6"
   ]
  },
  {
   "cell_type": "code",
   "execution_count": null,
   "id": "b1643b16",
   "metadata": {},
   "outputs": [],
   "source": [
    "def twoSum(nums, target):\n",
    "    dict1 = {}\n",
    "    \n",
    "    for i in range(len(nums)):\n",
    "        if target - nums[i] in dict1:\n",
    "            return [dict1[target - nums[i]], i]\n",
    "        dict1[nums[i]] = i\n",
    "        "
   ]
  },
  {
   "cell_type": "code",
   "execution_count": null,
   "id": "58f6086e",
   "metadata": {},
   "outputs": [],
   "source": [
    "twoSum(nums, target)"
   ]
  },
  {
   "cell_type": "code",
   "execution_count": null,
   "id": "b7906688",
   "metadata": {},
   "outputs": [],
   "source": []
  },
  {
   "cell_type": "code",
   "execution_count": null,
   "id": "f00728d5",
   "metadata": {},
   "outputs": [],
   "source": [
    "list(str(n))"
   ]
  },
  {
   "cell_type": "code",
   "execution_count": null,
   "id": "1170d247",
   "metadata": {},
   "outputs": [],
   "source": [
    "num_split = [int(i) for i in list(str(n))]\n",
    "num_split"
   ]
  },
  {
   "cell_type": "code",
   "execution_count": null,
   "id": "d0c490ce",
   "metadata": {},
   "outputs": [],
   "source": [
    "n = 19\n",
    "dict1 = {}\n",
    "\n",
    "while True:\n",
    "    num_split = [int(i) for i in list(str(n))]\n",
    "    new_sum = 0\n",
    "    if n in dict1:\n",
    "        n = n\n",
    "    for i in num_split:\n",
    "        new_sum += i**2\n",
    "\n",
    "    if n not in dict1:\n",
    "        dict1[n] = new_sum\n",
    "\n",
    "n"
   ]
  },
  {
   "cell_type": "code",
   "execution_count": 10,
   "id": "1a5e4f80",
   "metadata": {},
   "outputs": [],
   "source": [
    "nums = [2,7,11,15, 4, 3, 5]\n",
    "target = 19"
   ]
  },
  {
   "cell_type": "code",
   "execution_count": 13,
   "id": "9f445c30",
   "metadata": {},
   "outputs": [
    {
     "name": "stdout",
     "output_type": "stream",
     "text": [
      "4 3\n"
     ]
    }
   ],
   "source": [
    "dict1 = {}\n",
    "\n",
    "for i, j in enumerate(nums):\n",
    "    if target - j in dict1:\n",
    "        print(i, nums.index(target - j))\n",
    "        break\n",
    "    \n",
    "    dict1[j] = i"
   ]
  },
  {
   "cell_type": "code",
   "execution_count": 15,
   "id": "50d375e0",
   "metadata": {},
   "outputs": [],
   "source": [
    "n = 19"
   ]
  },
  {
   "cell_type": "code",
   "execution_count": 28,
   "id": "dc370762",
   "metadata": {},
   "outputs": [],
   "source": [
    "dict1 = {}\n",
    "def isHappy(n):\n",
    "    while n!=1:\n",
    "        num_split = [int(i) for i in list(str(n))]\n",
    "        new_sum = 0\n",
    "        if n not in dict1:\n",
    "            dict1[n] = num_split\n",
    "        elif n in dict1:\n",
    "            return False\n",
    "        for i in num_split:\n",
    "            new_sum += int(i) **2\n",
    "\n",
    "        n = new_sum\n",
    "    return True"
   ]
  },
  {
   "cell_type": "code",
   "execution_count": 30,
   "id": "05a041b4",
   "metadata": {},
   "outputs": [
    {
     "data": {
      "text/plain": [
       "False"
      ]
     },
     "execution_count": 30,
     "metadata": {},
     "output_type": "execute_result"
    }
   ],
   "source": [
    "isHappy(2)"
   ]
  },
  {
   "cell_type": "code",
   "execution_count": 71,
   "id": "b413a7ab",
   "metadata": {},
   "outputs": [],
   "source": [
    "nums = [1,2,3,1]\n",
    "k = 3\n",
    "nums = [1,0,1,1]\n",
    "k = 1\n",
    "# nums = [1,2,3,1,2,3]\n",
    "# k = 2"
   ]
  },
  {
   "cell_type": "code",
   "execution_count": 72,
   "id": "6f8b6942",
   "metadata": {},
   "outputs": [],
   "source": [
    "def containsNearbyDuplicate(nums, k):\n",
    "    dict1 = {}\n",
    "    for i, j in enumerate(nums):\n",
    "        if j not in dict1:\n",
    "            dict1[j] = i\n",
    "        elif j in dict1 and abs(dict1[j] - i) <= k:\n",
    "            return True\n",
    "        elif j in dict1:\n",
    "            dict1.pop(j)\n",
    "            dict1[j] = i\n",
    "            \n",
    "    return False"
   ]
  },
  {
   "cell_type": "code",
   "execution_count": 73,
   "id": "147bdf5d",
   "metadata": {},
   "outputs": [
    {
     "data": {
      "text/plain": [
       "True"
      ]
     },
     "execution_count": 73,
     "metadata": {},
     "output_type": "execute_result"
    }
   ],
   "source": [
    "containsNearbyDuplicate(nums, k)"
   ]
  },
  {
   "cell_type": "code",
   "execution_count": 95,
   "id": "c0ecb97e",
   "metadata": {},
   "outputs": [],
   "source": [
    "nums = [100,4,200,1,3,2]\n",
    "# nums = [0,3,7,2,5,8,4,6,0,1]\n",
    "# nums = [9,1,4,7,3,-1,0,5,8,-1,6]"
   ]
  },
  {
   "cell_type": "code",
   "execution_count": 92,
   "id": "92b71f32",
   "metadata": {},
   "outputs": [],
   "source": [
    "def longestConsecutive(nums):\n",
    "\n",
    "    nums_set = set(nums)\n",
    "    longest = 0\n",
    "\n",
    "    for n in nums_set:\n",
    "        if (n - 1) not in nums_set:\n",
    "            length = 1\n",
    "            while (n+length) in nums_set:\n",
    "                length += 1\n",
    "            longest = max(length, longest)\n",
    "\n",
    "    return longest\n",
    "\n",
    "        "
   ]
  },
  {
   "cell_type": "code",
   "execution_count": 93,
   "id": "ef45a5ca",
   "metadata": {},
   "outputs": [
    {
     "data": {
      "text/plain": [
       "7"
      ]
     },
     "execution_count": 93,
     "metadata": {},
     "output_type": "execute_result"
    }
   ],
   "source": [
    "longestConsecutive(nums)"
   ]
  },
  {
   "cell_type": "code",
   "execution_count": 94,
   "id": "cd546f4e",
   "metadata": {},
   "outputs": [
    {
     "data": {
      "text/plain": [
       "{-1, 0, 1, 3, 4, 5, 6, 7, 8, 9}"
      ]
     },
     "execution_count": 94,
     "metadata": {},
     "output_type": "execute_result"
    }
   ],
   "source": [
    "set(nums)"
   ]
  },
  {
   "cell_type": "code",
   "execution_count": 97,
   "id": "1ad044b0",
   "metadata": {},
   "outputs": [
    {
     "data": {
      "text/plain": [
       "{1, 2, 3, 4, 100, 200}"
      ]
     },
     "execution_count": 97,
     "metadata": {},
     "output_type": "execute_result"
    }
   ],
   "source": [
    "set(nums)"
   ]
  },
  {
   "cell_type": "code",
   "execution_count": 140,
   "id": "5f5520f9",
   "metadata": {},
   "outputs": [],
   "source": [
    "nums = [0,1,2,4,5,7]"
   ]
  },
  {
   "cell_type": "code",
   "execution_count": null,
   "id": "fc690731",
   "metadata": {},
   "outputs": [],
   "source": [
    "dict1 = {}\n",
    "ranged = []\n",
    "\n",
    "for i in range(len(nums)):\n",
    "    gap = 0\n",
    "    while (nums[i] + gap) in nums:\n",
    "        \n",
    "        \n",
    "        "
   ]
  },
  {
   "cell_type": "code",
   "execution_count": 20,
   "id": "9b4a733e",
   "metadata": {},
   "outputs": [],
   "source": [
    "input_file = \"\"\"\n",
    "* 0 2\n",
    "C 1 0\n",
    "╠ 1 1\n",
    "╣ 1 2\n",
    "═ 2 1\n",
    "╚ 3 0\n",
    "╝ 3 1\n",
    "╔ 3 2\n",
    "═ 4 0\n",
    "═ 4 2\n",
    "B 5 0\n",
    "A 5 2\n",
    "\"\"\""
   ]
  },
  {
   "cell_type": "code",
   "execution_count": 31,
   "id": "15e9a402",
   "metadata": {},
   "outputs": [],
   "source": [
    "inputarray = input_file.split('\\n')[1:-1]"
   ]
  },
  {
   "cell_type": "code",
   "execution_count": 32,
   "id": "91ecec37",
   "metadata": {},
   "outputs": [
    {
     "data": {
      "text/plain": [
       "['* 0 2',\n",
       " 'C 1 0',\n",
       " '╠ 1 1',\n",
       " '╣ 1 2',\n",
       " '═ 2 1',\n",
       " '╚ 3 0',\n",
       " '╝ 3 1',\n",
       " '╔ 3 2',\n",
       " '═ 4 0',\n",
       " '═ 4 2',\n",
       " 'B 5 0',\n",
       " 'A 5 2']"
      ]
     },
     "execution_count": 32,
     "metadata": {},
     "output_type": "execute_result"
    }
   ],
   "source": [
    "inputarray"
   ]
  },
  {
   "cell_type": "code",
   "execution_count": 33,
   "id": "4309e75e",
   "metadata": {},
   "outputs": [
    {
     "name": "stdout",
     "output_type": "stream",
     "text": [
      "* 0 2\n",
      "C 1 0\n",
      "╠ 1 1\n",
      "╣ 1 2\n",
      "═ 2 1\n",
      "╚ 3 0\n",
      "╝ 3 1\n",
      "╔ 3 2\n",
      "═ 4 0\n",
      "═ 4 2\n",
      "B 5 0\n",
      "A 5 2\n"
     ]
    }
   ],
   "source": [
    "for i in inputarray:\n",
    "    print(i)"
   ]
  },
  {
   "cell_type": "code",
   "execution_count": 98,
   "id": "8759b7aa",
   "metadata": {},
   "outputs": [],
   "source": [
    "class Node:\n",
    "    def __init__(self, left=0, right=0, up=0, down=0):\n",
    "        self.left = left\n",
    "        self.right = right\n",
    "        self.up = up\n",
    "        self.down = down\n",
    "        \n",
    "    def get_array(self):\n",
    "        return [self.left, self.right, self.up, self.down]\n"
   ]
  },
  {
   "cell_type": "code",
   "execution_count": 99,
   "id": "6b77c55c",
   "metadata": {},
   "outputs": [],
   "source": [
    "a = Node(1, 1, 0, 0)"
   ]
  },
  {
   "cell_type": "code",
   "execution_count": 100,
   "id": "0a7608e4",
   "metadata": {},
   "outputs": [],
   "source": [
    "dict2 = {\n",
    "    '╠': Node(0, 1, 1, 1),\n",
    "    '╣': Node(1, 0, 1, 1),\n",
    "    '═': Node(1, 1, 0, 0),\n",
    "    '╚': Node(0, 1, 1, 0),\n",
    "    '╝': Node(1, 0, 1, 0),\n",
    "    '╔': Node(0, 1, 0, 1)\n",
    "}"
   ]
  },
  {
   "cell_type": "code",
   "execution_count": 150,
   "id": "8de5e451",
   "metadata": {},
   "outputs": [],
   "source": [
    "def insert_symbol(matrix, data_set):\n",
    "    for coord, symbol in data_set:\n",
    "        x, y = coord\n",
    "        matrix[x][y] = symbol\n",
    "    return matrix"
   ]
  },
  {
   "cell_type": "code",
   "execution_count": 100,
   "id": "aa136cc4",
   "metadata": {},
   "outputs": [],
   "source": [
    "class ListNode(object):\n",
    "    def __init__(self, x=None):\n",
    "        self.val = x\n",
    "        self.next = None\n",
    "head = [3,2,0,-4]\n",
    "pos = 1"
   ]
  },
  {
   "cell_type": "code",
   "execution_count": 25,
   "id": "12ed9530",
   "metadata": {},
   "outputs": [],
   "source": [
    "head = ListNode(3)\n",
    "head.next = ListNode(2)\n",
    "head.next.next = ListNode(0)\n",
    "head.next.next.next = ListNode(4)"
   ]
  },
  {
   "cell_type": "code",
   "execution_count": 26,
   "id": "651767ac",
   "metadata": {},
   "outputs": [],
   "source": [
    "def hasCycle(head):\n",
    "    dict1 = {}\n",
    "    while head:\n",
    "        if head not in dict1:\n",
    "            dict1[head] = True\n",
    "        else:\n",
    "            return True\n",
    "        head = head.next\n",
    "    return False"
   ]
  },
  {
   "cell_type": "code",
   "execution_count": 27,
   "id": "11bc76d1",
   "metadata": {},
   "outputs": [
    {
     "data": {
      "text/plain": [
       "False"
      ]
     },
     "execution_count": 27,
     "metadata": {},
     "output_type": "execute_result"
    }
   ],
   "source": [
    "hasCycle(head)"
   ]
  },
  {
   "cell_type": "code",
   "execution_count": 62,
   "id": "39b71800",
   "metadata": {},
   "outputs": [],
   "source": [
    "list1 = ListNode(1)\n",
    "list1.next = ListNode(2)\n",
    "list1.next.next = ListNode(4)\n",
    "\n",
    "list2 = ListNode(1)\n",
    "list2.next = ListNode(3)\n",
    "list2.next.next = ListNode(4)"
   ]
  },
  {
   "cell_type": "code",
   "execution_count": 47,
   "id": "642820d4",
   "metadata": {},
   "outputs": [],
   "source": [
    "while list2:\n",
    "    print(list2.val)\n",
    "    list2 = list2.next"
   ]
  },
  {
   "cell_type": "code",
   "execution_count": 63,
   "id": "35119b2b",
   "metadata": {},
   "outputs": [],
   "source": [
    "current = ListNode(0)\n",
    "while list1 and list2:\n",
    "    if list1.val < list2.val:\n",
    "        current.next = list1\n",
    "        list1 = list1.next\n",
    "    else:\n",
    "        current.next = list2\n",
    "        list2 = list2.next\n",
    "    current = current.next\n",
    "    "
   ]
  },
  {
   "cell_type": "code",
   "execution_count": 109,
   "id": "e9ae5a74",
   "metadata": {},
   "outputs": [],
   "source": [
    "array = [1, 2, 5]\n",
    "head = ListNode()\n",
    "current = head"
   ]
  },
  {
   "cell_type": "code",
   "execution_count": 144,
   "id": "9b46f533",
   "metadata": {},
   "outputs": [],
   "source": [
    "array = [3, 2, 0, -4]\n",
    "head = ListNode()\n",
    "current = head\n",
    "\n",
    "for i in array:\n",
    "    new_node = ListNode(i)\n",
    "    current.next = new_node\n",
    "    current = new_node\n",
    "    \n",
    "head = head.next # remove the place holding node\n",
    "current.next = head.next # Current: -4 next node will be 2 creating cycle"
   ]
  },
  {
   "cell_type": "code",
   "execution_count": 147,
   "id": "3ebfb101",
   "metadata": {},
   "outputs": [
    {
     "name": "stdout",
     "output_type": "stream",
     "text": [
      "2\n",
      "0\n",
      "-4\n",
      "2\n",
      "0\n",
      "-4\n",
      "2\n",
      "0\n",
      "-4\n",
      "2\n",
      "0\n",
      "cycle\n"
     ]
    }
   ],
   "source": [
    "k = 0\n",
    "while head:\n",
    "    print(head.val)\n",
    "    k += 1\n",
    "    head = head.next\n",
    "    if k > 10:\n",
    "        print(\"cycle\")\n",
    "        break"
   ]
  },
  {
   "cell_type": "code",
   "execution_count": 217,
   "id": "16cf9fb8",
   "metadata": {},
   "outputs": [],
   "source": [
    "list1 = [1,2,4]\n",
    "list2 = [1,3,4]\n",
    "head1 = ListNode()\n",
    "head2 = ListNode()\n",
    "current1 = head1\n",
    "current2 = head2\n",
    "\n",
    "\n",
    "a = list(zip(list1, list2))\n",
    "\n",
    "for i,j in a:\n",
    "    new_node1 = ListNode(i)\n",
    "    new_node2 = ListNode(j)\n",
    "    \n",
    "    current1.next = new_node1\n",
    "    current2.next = new_node2\n",
    "    \n",
    "    current1 = new_node1\n",
    "    current2 = new_node2\n",
    "head1 = head1.next\n",
    "head2 = head2.next"
   ]
  },
  {
   "cell_type": "code",
   "execution_count": 218,
   "id": "96816349",
   "metadata": {},
   "outputs": [],
   "source": [
    "root = ListNode()\n",
    "current = root\n",
    "\n",
    "while head1 and head2:\n",
    "    if head1.val < head2.val:\n",
    "        current.next = head1\n",
    "        head1 = head1.next\n",
    "    else:\n",
    "        current.next = head2\n",
    "        head2 = head2.next\n",
    "    current = current.next\n",
    "current.next = head1 or head2\n",
    "root = root.next"
   ]
  },
  {
   "cell_type": "code",
   "execution_count": 219,
   "id": "b25709d5",
   "metadata": {},
   "outputs": [
    {
     "name": "stdout",
     "output_type": "stream",
     "text": [
      "1\n",
      "1\n",
      "2\n",
      "3\n",
      "4\n",
      "4\n"
     ]
    }
   ],
   "source": [
    "while root:\n",
    "    print(root.val)\n",
    "    root = root.next"
   ]
  },
  {
   "cell_type": "code",
   "execution_count": 392,
   "id": "c598b8fe",
   "metadata": {},
   "outputs": [],
   "source": [
    "list1 = [2,4,3]\n",
    "list2 = [5,6,4]\n",
    "head1 = ListNode()\n",
    "head2 = ListNode()\n",
    "current1 = head1\n",
    "current2 = head2\n",
    "\n",
    "\n",
    "a = list(zip(list1, list2))\n",
    "\n",
    "for i,j in a:\n",
    "    new_node1 = ListNode(i)\n",
    "    new_node2 = ListNode(j)\n",
    "    \n",
    "    current1.next = new_node1\n",
    "    current2.next = new_node2\n",
    "    \n",
    "    current1 = new_node1\n",
    "    current2 = new_node2\n",
    "head1 = head1.next\n",
    "head2 = head2.next"
   ]
  },
  {
   "cell_type": "code",
   "execution_count": 393,
   "id": "cb2697c4",
   "metadata": {},
   "outputs": [],
   "source": [
    "root = ListNode(0)\n",
    "current = root\n",
    "carry = 0\n",
    "while head1 or head2 or carry:\n",
    "    added = 0\n",
    "    \n",
    "    if head1:\n",
    "        added += head1.val\n",
    "        head1 = head1.next\n",
    "    if head2:\n",
    "        added += head2.val\n",
    "        head2 = head2.next\n",
    "    carry, val = divmod(added+carry, 10)\n",
    "    new_node = ListNode(val)\n",
    "    current.next = new_node\n",
    "    current = current.next\n",
    "root = root.next"
   ]
  },
  {
   "cell_type": "code",
   "execution_count": 394,
   "id": "1bcefebc",
   "metadata": {},
   "outputs": [
    {
     "name": "stdout",
     "output_type": "stream",
     "text": [
      "7\n",
      "0\n",
      "8\n"
     ]
    }
   ],
   "source": [
    "while root:\n",
    "    print(root.val)\n",
    "    root = root.next"
   ]
  },
  {
   "cell_type": "code",
   "execution_count": null,
   "id": "63ab4580",
   "metadata": {},
   "outputs": [],
   "source": []
  }
 ],
 "metadata": {
  "kernelspec": {
   "display_name": "Python 3 (ipykernel)",
   "language": "python",
   "name": "python3"
  },
  "language_info": {
   "codemirror_mode": {
    "name": "ipython",
    "version": 3
   },
   "file_extension": ".py",
   "mimetype": "text/x-python",
   "name": "python",
   "nbconvert_exporter": "python",
   "pygments_lexer": "ipython3",
   "version": "3.9.12"
  }
 },
 "nbformat": 4,
 "nbformat_minor": 5
}
