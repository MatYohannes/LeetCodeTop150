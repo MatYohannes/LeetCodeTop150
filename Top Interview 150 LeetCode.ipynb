{
 "cells": [
  {
   "cell_type": "markdown",
   "id": "a2de5b03",
   "metadata": {},
   "source": [
    "## Top Interview 150 from LeetCode\n",
    "\n",
    "### Categories are as follows:\n",
    "* Array/String\n",
    "* Two Pointers\n",
    "* Sliding Window\n",
    "* Matrix\n",
    "* Hashmap\n",
    "* Intervals\n",
    "* Stack\n",
    "* Linked List\n",
    "* Binary Tree General\n",
    "* Binary Tree BFS\n",
    "* Binary Search Tree\n",
    "* Graph General\n",
    "* Graph BFS\n",
    "* Trie\n",
    "* Backtracking\n",
    "* Divide & Conquer\n",
    "* Kadane's Algorithm\n",
    "* Binary Search\n",
    "* Heap\n",
    "* Bit Manipulation\n",
    "* Math\n",
    "* 1D DP\n",
    "* Multidimensional DP\n",
    "\n",
    "source of the list:\n",
    "https://leetcode.com/studyplan/top-interview-150/"
   ]
  },
  {
   "cell_type": "markdown",
   "id": "b3b13286",
   "metadata": {},
   "source": [
    "## Array / String"
   ]
  },
  {
   "cell_type": "markdown",
   "id": "ba58fc01",
   "metadata": {},
   "source": [
    "### Merge Sorted Array"
   ]
  },
  {
   "cell_type": "code",
   "execution_count": 9,
   "id": "a9a51ea9",
   "metadata": {},
   "outputs": [],
   "source": [
    "# You are given two integer arrays nums1 and nums2,\n",
    "# sorted in non-decreasing order, and two integers m and n,\n",
    "# representing the number of elements in nums1 and nums2 respectively.\n",
    "\n",
    "nums1 = [1,2,3,0,0,0]\n",
    "m = 3\n",
    "nums2 = [2,5,6]\n",
    "n = 3"
   ]
  },
  {
   "cell_type": "code",
   "execution_count": 10,
   "id": "003dc2e8",
   "metadata": {},
   "outputs": [
    {
     "data": {
      "text/plain": [
       "[1, 2, 2, 3, 5, 6]"
      ]
     },
     "execution_count": 10,
     "metadata": {},
     "output_type": "execute_result"
    }
   ],
   "source": [
    "# For this example, we are to take the elements from nums2 and insert then into nums1\n",
    "# and replace the zeros\n",
    "\n",
    "for i in range(n):\n",
    "    nums1[m+i] = nums2[i]\n",
    "\n",
    "nums1.sort()\n",
    "nums1\n",
    "# To sort the numbers in nums1 in-place, use method '.sort()' instead of 'sorted()'"
   ]
  },
  {
   "cell_type": "markdown",
   "id": "d4bc1ff0",
   "metadata": {},
   "source": [
    "### Remove Element"
   ]
  },
  {
   "cell_type": "code",
   "execution_count": 27,
   "id": "1256a124",
   "metadata": {},
   "outputs": [],
   "source": [
    "# Given an integer array nums and an integer val, remove all occurrences of val\n",
    "# in nums in-place. The order of the elements may be changed. Then return the \n",
    "# number of elements in nums which are not equal to val.\n",
    "\n",
    "nums = [3,2,2,3]\n",
    "val = 3"
   ]
  },
  {
   "cell_type": "code",
   "execution_count": 28,
   "id": "6ae701b7",
   "metadata": {},
   "outputs": [
    {
     "data": {
      "text/plain": [
       "([2, 2, 2, 3], 2)"
      ]
     },
     "execution_count": 28,
     "metadata": {},
     "output_type": "execute_result"
    }
   ],
   "source": [
    "i = 0\n",
    "for x in nums:\n",
    "    if x != val:\n",
    "        nums[i] = x\n",
    "        i+=1\n",
    "nums, i"
   ]
  },
  {
   "cell_type": "markdown",
   "id": "418307ea",
   "metadata": {},
   "source": [
    "### Remove Duplicates from Sorted Array"
   ]
  },
  {
   "cell_type": "code",
   "execution_count": 34,
   "id": "9afbb821",
   "metadata": {},
   "outputs": [],
   "source": [
    "# Given an integer array nums sorted in non-decreasing order,\n",
    "# remove the duplicates in-place such that each unique element \n",
    "# appears only once. The relative order of the elements should be\n",
    "# kept the same. Then return the number of unique elements in nums.\n",
    "\n",
    "nums = [1,1,2]"
   ]
  },
  {
   "cell_type": "code",
   "execution_count": 33,
   "id": "a2fc1d22",
   "metadata": {},
   "outputs": [
    {
     "data": {
      "text/plain": [
       "[1, 2]"
      ]
     },
     "execution_count": 33,
     "metadata": {},
     "output_type": "execute_result"
    }
   ],
   "source": [
    "nums[:] = list(set(nums))\n",
    "nums"
   ]
  },
  {
   "cell_type": "markdown",
   "id": "2fc16d2a",
   "metadata": {},
   "source": [
    "### Remove Duplicates from Sorted Array II"
   ]
  },
  {
   "cell_type": "code",
   "execution_count": 55,
   "id": "496a34a4",
   "metadata": {},
   "outputs": [],
   "source": [
    "# Given an integer array nums sorted in non-decreasing order, \n",
    "# remove some duplicates in-place such that each unique element\n",
    "# appears at most twice. The relative order of the elements should \n",
    "# be kept the same.\n",
    "\n",
    "nums = [1,1,1,2,2,3]"
   ]
  },
  {
   "cell_type": "code",
   "execution_count": 47,
   "id": "2bea30d4",
   "metadata": {},
   "outputs": [
    {
     "data": {
      "text/plain": [
       "[1, 1, 2, 2, 3]"
      ]
     },
     "execution_count": 47,
     "metadata": {},
     "output_type": "execute_result"
    }
   ],
   "source": [
    "# Easiest to write but didn't pass all tests\n",
    "\n",
    "for x in nums:\n",
    "    if nums.count(x) > 2:\n",
    "        nums.pop(nums.index(x))\n",
    "nums"
   ]
  },
  {
   "cell_type": "code",
   "execution_count": 57,
   "id": "3a0df411",
   "metadata": {},
   "outputs": [
    {
     "data": {
      "text/plain": [
       "[1, 1, 2, 2, 3, 3]"
      ]
     },
     "execution_count": 57,
     "metadata": {},
     "output_type": "execute_result"
    }
   ],
   "source": [
    "# k keeps track of the pointer and increments only when there are less than two values\n",
    "# and if there are two values in, it compares the third value to the first pair and inserts\n",
    "# only if there is no match\n",
    "k = 0\n",
    "\n",
    "for x in nums:\n",
    "    if k < 2 or x != nums[k-2]:\n",
    "        nums[k] = x\n",
    "        k += 1\n",
    "nums"
   ]
  },
  {
   "cell_type": "markdown",
   "id": "a442b54e",
   "metadata": {},
   "source": [
    "### Majority Element"
   ]
  },
  {
   "cell_type": "code",
   "execution_count": 58,
   "id": "43c9003c",
   "metadata": {},
   "outputs": [],
   "source": [
    "# Given an array nums of size n, return the majority element.\n",
    "nums = [2,2,1,1,1,2,2]\n",
    "nums1 = [3,2,3]"
   ]
  },
  {
   "cell_type": "code",
   "execution_count": 75,
   "id": "1c5fad79",
   "metadata": {},
   "outputs": [],
   "source": [
    "def majorityElement1(nums):\n",
    "    return sorted(nums)[len(nums)//2]"
   ]
  },
  {
   "cell_type": "code",
   "execution_count": 78,
   "id": "b31f4113",
   "metadata": {},
   "outputs": [],
   "source": [
    "def majorityElement2(nums): \n",
    "    k = 0\n",
    "    winner = -1\n",
    "    for x in nums:\n",
    "        if nums.count(x) > k:\n",
    "            k = nums.count(x)\n",
    "            winner = x\n",
    "    return winner"
   ]
  },
  {
   "cell_type": "code",
   "execution_count": 79,
   "id": "d8892c56",
   "metadata": {},
   "outputs": [
    {
     "data": {
      "text/plain": [
       "3"
      ]
     },
     "execution_count": 79,
     "metadata": {},
     "output_type": "execute_result"
    }
   ],
   "source": [
    "majorityElement2(nums1)"
   ]
  },
  {
   "cell_type": "markdown",
   "id": "49d88b62",
   "metadata": {},
   "source": [
    "### Rotate Array"
   ]
  },
  {
   "cell_type": "code",
   "execution_count": 80,
   "id": "cbfcd14c",
   "metadata": {},
   "outputs": [],
   "source": [
    "# Given an integer array nums, rotate the array to the right by k steps,\n",
    "# where k is non-negative.\n",
    "\n",
    "nums = [1,2,3,4,5,6,7]\n",
    "k = 3"
   ]
  },
  {
   "cell_type": "code",
   "execution_count": 81,
   "id": "c3c773a8",
   "metadata": {},
   "outputs": [],
   "source": [
    "## skipped"
   ]
  },
  {
   "cell_type": "markdown",
   "id": "35da3a40",
   "metadata": {},
   "source": [
    "### Best Time to Buy and Sell Stock\n"
   ]
  },
  {
   "cell_type": "code",
   "execution_count": 82,
   "id": "430baad4",
   "metadata": {},
   "outputs": [],
   "source": [
    "# You are given an array prices where prices[i] is the price\n",
    "# of a given stock on the ith day.\n",
    "\n",
    "prices = [7,1,5,3,6,4]"
   ]
  },
  {
   "cell_type": "code",
   "execution_count": 85,
   "id": "6ad629b7",
   "metadata": {},
   "outputs": [
    {
     "data": {
      "text/plain": [
       "5"
      ]
     },
     "execution_count": 85,
     "metadata": {},
     "output_type": "execute_result"
    }
   ],
   "source": [
    "left = prices[0]\n",
    "right = 0\n",
    "diff = 0\n",
    "\n",
    "for i in range(1, len(prices)):\n",
    "    if left > prices[i]:\n",
    "        left = prices[i]\n",
    "    elif diff < prices[i] - left:\n",
    "        diff = prices[i] - left        \n",
    "diff  "
   ]
  },
  {
   "cell_type": "markdown",
   "id": "0679e896",
   "metadata": {},
   "source": [
    "### Best Time to Buy and Sell Stock II\n"
   ]
  },
  {
   "cell_type": "code",
   "execution_count": 95,
   "id": "5f42f015",
   "metadata": {},
   "outputs": [],
   "source": [
    "# You are given an integer array prices where prices[i] is the price\n",
    "# of a given stock on the ith day.\n",
    "# On each day, you may decide to buy and/or sell the stock.\n",
    "# You can only hold at most one share of the stock at any time. \n",
    "# However, you can buy it then immediately sell it on the same day.\n",
    "\n",
    "prices = [7,1,5,3,6,4]"
   ]
  },
  {
   "cell_type": "code",
   "execution_count": 94,
   "id": "e4d3ba41",
   "metadata": {},
   "outputs": [
    {
     "data": {
      "text/plain": [
       "4"
      ]
     },
     "execution_count": 94,
     "metadata": {},
     "output_type": "execute_result"
    }
   ],
   "source": [
    "left = prices[0]\n",
    "bank = 0\n",
    "\n",
    "for i in range(1, len(prices)):\n",
    "    if left > prices[i]:\n",
    "        left = prices[i]\n",
    "    elif left < prices[i]:\n",
    "        bank += prices[i] - left\n",
    "        left = prices[i]\n",
    "bank"
   ]
  },
  {
   "cell_type": "code",
   "execution_count": 96,
   "id": "18fc26e1",
   "metadata": {},
   "outputs": [
    {
     "data": {
      "text/plain": [
       "7"
      ]
     },
     "execution_count": 96,
     "metadata": {},
     "output_type": "execute_result"
    }
   ],
   "source": [
    "left = prices[0]\n",
    "bank = 0\n",
    "\n",
    "for i in range(1, len(prices)):\n",
    "    if left < prices[i]:\n",
    "        bank += prices[i] - left\n",
    "    left = prices[i]\n",
    "bank"
   ]
  },
  {
   "cell_type": "markdown",
   "id": "44153743",
   "metadata": {},
   "source": [
    "### Jump Game\n"
   ]
  },
  {
   "cell_type": "code",
   "execution_count": 151,
   "id": "01c5ddea",
   "metadata": {},
   "outputs": [],
   "source": [
    "# You are given an integer array nums. You are initially positioned at \n",
    "# the array's first index, and each element in the array represents \n",
    "# your maximum jump length at that position.\n",
    "\n",
    "nums = [1,2,3]"
   ]
  },
  {
   "cell_type": "code",
   "execution_count": 152,
   "id": "2fe07560",
   "metadata": {},
   "outputs": [],
   "source": [
    "# This works for some cases\n",
    "def canJump(nums):\n",
    "    EOL = len(nums) -1\n",
    "\n",
    "    \n",
    "    if len(nums) == 1 and nums[0] == 1:\n",
    "        return True\n",
    "\n",
    "    for i in range(len(nums)):\n",
    "        jump = nums[i]\n",
    "        i += jump\n",
    "        if i == EOL and nums[i] == last_number:\n",
    "            return True\n",
    "    return False\n"
   ]
  },
  {
   "cell_type": "code",
   "execution_count": 153,
   "id": "132f97b8",
   "metadata": {},
   "outputs": [],
   "source": [
    "# This works well\n",
    "def canJump2(nums):\n",
    "    m = 0\n",
    "    for i, n in enumerate(nums):\n",
    "        if i > m:\n",
    "            return False\n",
    "        m = max(m, i+n)\n",
    "    return True"
   ]
  },
  {
   "cell_type": "code",
   "execution_count": 155,
   "id": "b407565c",
   "metadata": {},
   "outputs": [
    {
     "data": {
      "text/plain": [
       "True"
      ]
     },
     "execution_count": 155,
     "metadata": {},
     "output_type": "execute_result"
    }
   ],
   "source": [
    "canJump2(nums)"
   ]
  },
  {
   "cell_type": "markdown",
   "id": "66e7a267",
   "metadata": {},
   "source": [
    "### Jump Game II"
   ]
  },
  {
   "cell_type": "code",
   "execution_count": 156,
   "id": "afce2cbb",
   "metadata": {},
   "outputs": [],
   "source": [
    "# skip"
   ]
  },
  {
   "cell_type": "markdown",
   "id": "4b122148",
   "metadata": {},
   "source": [
    "### H-index"
   ]
  },
  {
   "cell_type": "code",
   "execution_count": 188,
   "id": "e0f97f87",
   "metadata": {},
   "outputs": [],
   "source": [
    "# Given an array of integers citations where citations[i] is the number of\n",
    "# citations a researcher received for their ith paper, return the researcher's h-index.\n",
    "\n",
    "citations = [3,0,6,1,5]"
   ]
  },
  {
   "cell_type": "code",
   "execution_count": 209,
   "id": "5edc5e66",
   "metadata": {},
   "outputs": [],
   "source": [
    "#skip"
   ]
  },
  {
   "cell_type": "code",
   "execution_count": null,
   "id": "0b5e89c5",
   "metadata": {},
   "outputs": [],
   "source": []
  },
  {
   "cell_type": "code",
   "execution_count": null,
   "id": "78c04e7a",
   "metadata": {},
   "outputs": [],
   "source": []
  },
  {
   "cell_type": "code",
   "execution_count": null,
   "id": "c6885c62",
   "metadata": {},
   "outputs": [],
   "source": []
  },
  {
   "cell_type": "code",
   "execution_count": null,
   "id": "3e9dd7c6",
   "metadata": {},
   "outputs": [],
   "source": []
  },
  {
   "cell_type": "code",
   "execution_count": null,
   "id": "815f2711",
   "metadata": {},
   "outputs": [],
   "source": []
  },
  {
   "cell_type": "markdown",
   "id": "96371e48",
   "metadata": {},
   "source": [
    "### Roman to Integer\n"
   ]
  },
  {
   "cell_type": "code",
   "execution_count": 222,
   "id": "2ebb2f44",
   "metadata": {},
   "outputs": [],
   "source": [
    "# Given a roman numeral, convert it to an integer.\n",
    "\n",
    "#     I can be placed before V (5) and X (10) to make 4 and 9. \n",
    "#     X can be placed before L (50) and C (100) to make 40 and 90. \n",
    "#     C can be placed before D (500) and M (1000) to make 400 and 900.\n",
    "\n",
    "\n",
    "s = \"MCMXCIV\""
   ]
  },
  {
   "cell_type": "code",
   "execution_count": 227,
   "id": "8a32157c",
   "metadata": {},
   "outputs": [],
   "source": [
    "def romanToInt(s):\n",
    "    s =s.replace(\"IV\", \"IIII\").replace(\"IX\",\"VIIII\").replace(\"XL\",\"XXXX\")\n",
    "    s = s.replace(\"XC\",\"LXXXX\").replace(\"CD\", \"CCCC\").replace(\"CM\",\"DCCCC\")\n",
    "\n",
    "    value = 0\n",
    "    for x in list(s):\n",
    "        if x == 'M':\n",
    "            value += 1000\n",
    "        elif x == 'D':\n",
    "            value += 500\n",
    "        elif x == 'C':\n",
    "            value += 100\n",
    "        elif x == 'L':\n",
    "            value += 50\n",
    "        elif x == 'X':\n",
    "            value += 10\n",
    "        elif x == 'V':\n",
    "            value += 5\n",
    "        elif x == 'I':\n",
    "            value += 1\n",
    "\n",
    "    return value\n",
    "            "
   ]
  },
  {
   "cell_type": "code",
   "execution_count": 228,
   "id": "e44e3608",
   "metadata": {},
   "outputs": [
    {
     "data": {
      "text/plain": [
       "1994"
      ]
     },
     "execution_count": 228,
     "metadata": {},
     "output_type": "execute_result"
    }
   ],
   "source": [
    "romanToInt(s)\n",
    "    "
   ]
  },
  {
   "cell_type": "markdown",
   "id": "e57fc52e",
   "metadata": {},
   "source": [
    "### Integer to Roman"
   ]
  },
  {
   "cell_type": "code",
   "execution_count": 408,
   "id": "5b8a7250",
   "metadata": {},
   "outputs": [],
   "source": [
    "# 1 : I\n",
    "# 4 : IV\n",
    "# 5 : V\n",
    "# 9 : IX\n",
    "# 10 : X\n",
    "# 40 : XL\n",
    "# 50 : L\n",
    "# 90 : XC\n",
    "# 100 : C\n",
    "# 400 : CD\n",
    "# D : 500\n",
    "# 900 : CM\n",
    "# 1000 : M\n",
    "\n",
    "\n",
    "num = 3749"
   ]
  },
  {
   "cell_type": "code",
   "execution_count": 409,
   "id": "a74be353",
   "metadata": {},
   "outputs": [
    {
     "name": "stdout",
     "output_type": "stream",
     "text": [
      "M\n",
      "D\n",
      "C\n",
      "XL\n",
      "IX\n"
     ]
    },
    {
     "data": {
      "text/plain": [
       "'MMMDCCXLIX'"
      ]
     },
     "execution_count": 409,
     "metadata": {},
     "output_type": "execute_result"
    }
   ],
   "source": [
    "let_list = ['M', 'CM', 'D', 'CD', 'C', 'XC', 'L', 'XL', 'X', 'IX', 'V', 'IV', 'I']\n",
    "num_list = [1000,900,500,400,100,90,50,40,10,9,5,4,1]\n",
    "i = 0\n",
    "roman_output = \"\"\n",
    "\n",
    "while num != 0:\n",
    "    if (num % num_list[i]) != num:\n",
    "        letter = let_list[i]\n",
    "        print(letter)\n",
    "        count = num // num_list[i]\n",
    "        roman_output += count * letter\n",
    "    num = num % num_list[i]\n",
    "    i += 1\n",
    "    roman_output\n",
    "roman_output"
   ]
  },
  {
   "cell_type": "markdown",
   "id": "c789a809",
   "metadata": {},
   "source": [
    "### Length of Last Word"
   ]
  },
  {
   "cell_type": "code",
   "execution_count": 410,
   "id": "26d95c81",
   "metadata": {},
   "outputs": [],
   "source": [
    "# Given a string s consisting of words and spaces,\n",
    "#return the length of the last word in the string.\n",
    "\n",
    "s = \"Hello World\""
   ]
  },
  {
   "cell_type": "code",
   "execution_count": 416,
   "id": "72e2ce98",
   "metadata": {},
   "outputs": [
    {
     "data": {
      "text/plain": [
       "5"
      ]
     },
     "execution_count": 416,
     "metadata": {},
     "output_type": "execute_result"
    }
   ],
   "source": [
    "len(' '.join(s.split()).split()[-1])"
   ]
  },
  {
   "cell_type": "markdown",
   "id": "68a331d5",
   "metadata": {},
   "source": [
    "### Longest Common Prefix"
   ]
  },
  {
   "cell_type": "code",
   "execution_count": 417,
   "id": "93956ee5",
   "metadata": {},
   "outputs": [],
   "source": [
    "# Write a function to find the longest common prefix string amongst an array of strings.\n",
    "strs = [\"flower\",\"flow\",\"flight\"]"
   ]
  },
  {
   "cell_type": "code",
   "execution_count": null,
   "id": "9212ca2d",
   "metadata": {},
   "outputs": [],
   "source": []
  }
 ],
 "metadata": {
  "kernelspec": {
   "display_name": "Python 3 (ipykernel)",
   "language": "python",
   "name": "python3"
  },
  "language_info": {
   "codemirror_mode": {
    "name": "ipython",
    "version": 3
   },
   "file_extension": ".py",
   "mimetype": "text/x-python",
   "name": "python",
   "nbconvert_exporter": "python",
   "pygments_lexer": "ipython3",
   "version": "3.9.12"
  }
 },
 "nbformat": 4,
 "nbformat_minor": 5
}
