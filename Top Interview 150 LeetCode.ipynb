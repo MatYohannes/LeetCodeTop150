{
 "cells": [
  {
   "cell_type": "markdown",
   "id": "15dc2127",
   "metadata": {},
   "source": [
    "## Top Interview 150 from LeetCode\n",
    "\n",
    "### Categories are as follows:\n",
    "* Array/String\n",
    "* Two Pointers\n",
    "* Sliding Window\n",
    "* Matrix\n",
    "* Hashmap\n",
    "* Intervals\n",
    "* Stack\n",
    "* Linked List\n",
    "* Binary Tree General\n",
    "* Binary Tree BFS\n",
    "* Binary Search Tree\n",
    "* Graph General\n",
    "* Graph BFS\n",
    "* Trie\n",
    "* Backtracking\n",
    "* Divide & Conquer\n",
    "* Kadane's Algorithm\n",
    "* Binary Search\n",
    "* Heap\n",
    "* Bit Manipulation\n",
    "* Math\n",
    "* 1D DP\n",
    "* Multidimensional DP\n",
    "\n",
    "source of the list:\n",
    "https://leetcode.com/studyplan/top-interview-150/"
   ]
  },
  {
   "cell_type": "markdown",
   "id": "cf3d700f",
   "metadata": {},
   "source": [
    "## Array / String"
   ]
  },
  {
   "cell_type": "markdown",
   "id": "a8f36fde",
   "metadata": {},
   "source": [
    "### Merge Sorted Array"
   ]
  },
  {
   "cell_type": "code",
   "execution_count": null,
   "id": "6c2b80b9",
   "metadata": {},
   "outputs": [],
   "source": [
    "# You are given two integer arrays nums1 and nums2,\n",
    "# sorted in non-decreasing order, and two integers m and n,\n",
    "# representing the number of elements in nums1 and nums2 respectively.\n",
    "\n",
    "nums1 = [1,2,3,0,0,0]\n",
    "m = 3\n",
    "nums2 = [2,5,6]\n",
    "n = 3"
   ]
  },
  {
   "cell_type": "code",
   "execution_count": null,
   "id": "e581f4bc",
   "metadata": {},
   "outputs": [],
   "source": [
    "# For this example, we are to take the elements from nums2 and insert then into nums1\n",
    "# and replace the zeros\n",
    "\n",
    "for i in range(n):\n",
    "    nums1[m+i] = nums2[i]\n",
    "\n",
    "nums1.sort()\n",
    "nums1\n",
    "# To sort the numbers in nums1 in-place, use method '.sort()' instead of 'sorted()'"
   ]
  },
  {
   "cell_type": "markdown",
   "id": "e49f172b",
   "metadata": {},
   "source": [
    "### Remove Element"
   ]
  },
  {
   "cell_type": "code",
   "execution_count": null,
   "id": "48a252ac",
   "metadata": {},
   "outputs": [],
   "source": [
    "# Given an integer array nums and an integer val, remove all occurrences of val\n",
    "# in nums in-place. The order of the elements may be changed. Then return the \n",
    "# number of elements in nums which are not equal to val.\n",
    "\n",
    "nums = [3,2,2,3]\n",
    "val = 3"
   ]
  },
  {
   "cell_type": "code",
   "execution_count": null,
   "id": "dde92528",
   "metadata": {},
   "outputs": [],
   "source": [
    "i = 0\n",
    "for x in nums:\n",
    "    if x != val:\n",
    "        nums[i] = x\n",
    "        i+=1\n",
    "nums, i"
   ]
  },
  {
   "cell_type": "markdown",
   "id": "ccd3599b",
   "metadata": {},
   "source": [
    "### Remove Duplicates from Sorted Array"
   ]
  },
  {
   "cell_type": "code",
   "execution_count": null,
   "id": "0fecaa45",
   "metadata": {},
   "outputs": [],
   "source": [
    "# Given an integer array nums sorted in non-decreasing order,\n",
    "# remove the duplicates in-place such that each unique element \n",
    "# appears only once. The relative order of the elements should be\n",
    "# kept the same. Then return the number of unique elements in nums.\n",
    "\n",
    "nums = [1,1,2]"
   ]
  },
  {
   "cell_type": "code",
   "execution_count": null,
   "id": "78022bd6",
   "metadata": {},
   "outputs": [],
   "source": [
    "nums[:] = list(set(nums))\n",
    "nums"
   ]
  },
  {
   "cell_type": "markdown",
   "id": "8c07515e",
   "metadata": {},
   "source": [
    "### Remove Duplicates from Sorted Array II"
   ]
  },
  {
   "cell_type": "code",
   "execution_count": 14,
   "id": "5ebeda6a",
   "metadata": {},
   "outputs": [],
   "source": [
    "# Given an integer array nums sorted in non-decreasing order, \n",
    "# remove some duplicates in-place such that each unique element\n",
    "# appears at most twice. The relative order of the elements should \n",
    "# be kept the same.\n",
    "\n",
    "nums = [1,1,1,2,2,3]\n",
    "nums = [0,0,1,1,1,1,2,3,3]"
   ]
  },
  {
   "cell_type": "code",
   "execution_count": 3,
   "id": "292a7c1f",
   "metadata": {},
   "outputs": [
    {
     "data": {
      "text/plain": [
       "[1, 1, 2, 2, 3]"
      ]
     },
     "execution_count": 3,
     "metadata": {},
     "output_type": "execute_result"
    }
   ],
   "source": [
    "# Easiest to write but didn't pass all tests\n",
    "\n",
    "for x in nums:\n",
    "    if nums.count(x) > 2:\n",
    "        nums.pop(nums.index(x))\n",
    "nums"
   ]
  },
  {
   "cell_type": "code",
   "execution_count": 4,
   "id": "3d0d93a7",
   "metadata": {},
   "outputs": [
    {
     "data": {
      "text/plain": [
       "[1, 1, 2, 2, 3]"
      ]
     },
     "execution_count": 4,
     "metadata": {},
     "output_type": "execute_result"
    }
   ],
   "source": [
    "# k keeps track of the pointer and increments only when there are less than two values\n",
    "# and if there are two values in, it compares the third value to the first pair and inserts\n",
    "# only if there is no match\n",
    "k = 0\n",
    "\n",
    "for x in nums:\n",
    "    if k < 2 or x != nums[k-2]:\n",
    "        nums[k] = x\n",
    "        k += 1\n",
    "nums"
   ]
  },
  {
   "cell_type": "code",
   "execution_count": 42,
   "id": "e7b1ef59",
   "metadata": {},
   "outputs": [
    {
     "data": {
      "text/plain": [
       "[0, 3, 1, 1, 1, 1, 2, 3, 3]"
      ]
     },
     "execution_count": 42,
     "metadata": {},
     "output_type": "execute_result"
    }
   ],
   "source": []
  },
  {
   "cell_type": "code",
   "execution_count": null,
   "id": "684ba7ff",
   "metadata": {},
   "outputs": [],
   "source": []
  },
  {
   "cell_type": "markdown",
   "id": "27901ce3",
   "metadata": {},
   "source": [
    "### Majority Element"
   ]
  },
  {
   "cell_type": "code",
   "execution_count": null,
   "id": "4b5770fd",
   "metadata": {},
   "outputs": [],
   "source": [
    "# Given an array nums of size n, return the majority element.\n",
    "nums = [2,2,1,1,1,2,2]\n",
    "nums1 = [3,2,3]"
   ]
  },
  {
   "cell_type": "code",
   "execution_count": null,
   "id": "02673463",
   "metadata": {},
   "outputs": [],
   "source": [
    "def majorityElement1(nums):\n",
    "    return sorted(nums)[len(nums)//2]"
   ]
  },
  {
   "cell_type": "code",
   "execution_count": null,
   "id": "a9fc156b",
   "metadata": {},
   "outputs": [],
   "source": [
    "def majorityElement2(nums): \n",
    "    k = 0\n",
    "    winner = -1\n",
    "    for x in nums:\n",
    "        if nums.count(x) > k:\n",
    "            k = nums.count(x)\n",
    "            winner = x\n",
    "    return winner"
   ]
  },
  {
   "cell_type": "code",
   "execution_count": null,
   "id": "a94b0124",
   "metadata": {},
   "outputs": [],
   "source": [
    "majorityElement2(nums1)"
   ]
  },
  {
   "cell_type": "markdown",
   "id": "18794258",
   "metadata": {},
   "source": [
    "### Rotate Array"
   ]
  },
  {
   "cell_type": "code",
   "execution_count": null,
   "id": "7cfecf30",
   "metadata": {},
   "outputs": [],
   "source": [
    "# Given an integer array nums, rotate the array to the right by k steps,\n",
    "# where k is non-negative.\n",
    "\n",
    "nums = [1,2,3,4,5,6,7]\n",
    "k = 3"
   ]
  },
  {
   "cell_type": "code",
   "execution_count": null,
   "id": "a8509901",
   "metadata": {},
   "outputs": [],
   "source": [
    "## skipped"
   ]
  },
  {
   "cell_type": "markdown",
   "id": "dc670bf7",
   "metadata": {},
   "source": [
    "### Best Time to Buy and Sell Stock\n"
   ]
  },
  {
   "cell_type": "code",
   "execution_count": null,
   "id": "2237ee1e",
   "metadata": {},
   "outputs": [],
   "source": [
    "# You are given an array prices where prices[i] is the price\n",
    "# of a given stock on the ith day.\n",
    "\n",
    "prices = [7,1,5,3,6,4]"
   ]
  },
  {
   "cell_type": "code",
   "execution_count": null,
   "id": "91e8751c",
   "metadata": {},
   "outputs": [],
   "source": [
    "left = prices[0]\n",
    "right = 0\n",
    "diff = 0\n",
    "\n",
    "for i in range(1, len(prices)):\n",
    "    if left > prices[i]:\n",
    "        left = prices[i]\n",
    "    elif diff < prices[i] - left:\n",
    "        diff = prices[i] - left        \n",
    "diff  "
   ]
  },
  {
   "cell_type": "markdown",
   "id": "76eee866",
   "metadata": {},
   "source": [
    "### Best Time to Buy and Sell Stock II\n"
   ]
  },
  {
   "cell_type": "code",
   "execution_count": null,
   "id": "dc57d8bd",
   "metadata": {},
   "outputs": [],
   "source": [
    "# You are given an integer array prices where prices[i] is the price\n",
    "# of a given stock on the ith day.\n",
    "# On each day, you may decide to buy and/or sell the stock.\n",
    "# You can only hold at most one share of the stock at any time. \n",
    "# However, you can buy it then immediately sell it on the same day.\n",
    "\n",
    "prices = [7,1,5,3,6,4]"
   ]
  },
  {
   "cell_type": "code",
   "execution_count": null,
   "id": "5eadc6a5",
   "metadata": {},
   "outputs": [],
   "source": [
    "left = prices[0]\n",
    "bank = 0\n",
    "\n",
    "for i in range(1, len(prices)):\n",
    "    if left > prices[i]:\n",
    "        left = prices[i]\n",
    "    elif left < prices[i]:\n",
    "        bank += prices[i] - left\n",
    "        left = prices[i]\n",
    "bank"
   ]
  },
  {
   "cell_type": "code",
   "execution_count": null,
   "id": "1123a7a2",
   "metadata": {},
   "outputs": [],
   "source": [
    "left = prices[0]\n",
    "bank = 0\n",
    "\n",
    "for i in range(1, len(prices)):\n",
    "    if left < prices[i]:\n",
    "        bank += prices[i] - left\n",
    "    left = prices[i]\n",
    "bank"
   ]
  },
  {
   "cell_type": "markdown",
   "id": "c59d9ecd",
   "metadata": {},
   "source": [
    "### Jump Game\n"
   ]
  },
  {
   "cell_type": "code",
   "execution_count": null,
   "id": "64b3198f",
   "metadata": {},
   "outputs": [],
   "source": [
    "# You are given an integer array nums. You are initially positioned at \n",
    "# the array's first index, and each element in the array represents \n",
    "# your maximum jump length at that position.\n",
    "\n",
    "nums = [1,2,3]"
   ]
  },
  {
   "cell_type": "code",
   "execution_count": null,
   "id": "f13cc030",
   "metadata": {},
   "outputs": [],
   "source": [
    "# This works for some cases\n",
    "def canJump(nums):\n",
    "    EOL = len(nums) -1\n",
    "\n",
    "    \n",
    "    if len(nums) == 1 and nums[0] == 1:\n",
    "        return True\n",
    "\n",
    "    for i in range(len(nums)):\n",
    "        jump = nums[i]\n",
    "        i += jump\n",
    "        if i == EOL and nums[i] == last_number:\n",
    "            return True\n",
    "    return False\n"
   ]
  },
  {
   "cell_type": "code",
   "execution_count": null,
   "id": "f24b2770",
   "metadata": {},
   "outputs": [],
   "source": [
    "# This works well\n",
    "def canJump2(nums):\n",
    "    m = 0\n",
    "    for i, n in enumerate(nums):\n",
    "        if i > m:\n",
    "            return False\n",
    "        m = max(m, i+n)\n",
    "    return True"
   ]
  },
  {
   "cell_type": "code",
   "execution_count": null,
   "id": "95143d48",
   "metadata": {},
   "outputs": [],
   "source": [
    "canJump2(nums)"
   ]
  },
  {
   "cell_type": "markdown",
   "id": "970d4930",
   "metadata": {},
   "source": [
    "### Jump Game II"
   ]
  },
  {
   "cell_type": "code",
   "execution_count": null,
   "id": "874ead94",
   "metadata": {},
   "outputs": [],
   "source": [
    "# skip"
   ]
  },
  {
   "cell_type": "markdown",
   "id": "86a0cab8",
   "metadata": {},
   "source": [
    "### H-index"
   ]
  },
  {
   "cell_type": "code",
   "execution_count": null,
   "id": "879f9aa8",
   "metadata": {},
   "outputs": [],
   "source": [
    "# Given an array of integers citations where citations[i] is the number of\n",
    "# citations a researcher received for their ith paper, return the researcher's h-index.\n",
    "\n",
    "citations = [3,0,6,1,5]"
   ]
  },
  {
   "cell_type": "code",
   "execution_count": null,
   "id": "7bcf4351",
   "metadata": {},
   "outputs": [],
   "source": [
    "#skip"
   ]
  },
  {
   "cell_type": "code",
   "execution_count": null,
   "id": "cf50c3b4",
   "metadata": {},
   "outputs": [],
   "source": []
  },
  {
   "cell_type": "code",
   "execution_count": null,
   "id": "a1ebab27",
   "metadata": {},
   "outputs": [],
   "source": []
  },
  {
   "cell_type": "code",
   "execution_count": null,
   "id": "7d48e5a5",
   "metadata": {},
   "outputs": [],
   "source": []
  },
  {
   "cell_type": "markdown",
   "id": "a8cca798",
   "metadata": {},
   "source": [
    "### Roman to Integer\n"
   ]
  },
  {
   "cell_type": "code",
   "execution_count": 43,
   "id": "c1155131",
   "metadata": {},
   "outputs": [],
   "source": [
    "# Given a roman numeral, convert it to an integer.\n",
    "\n",
    "#     I can be placed before V (5) and X (10) to make 4 and 9. \n",
    "#     X can be placed before L (50) and C (100) to make 40 and 90. \n",
    "#     C can be placed before D (500) and M (1000) to make 400 and 900.\n",
    "\n",
    "\n",
    "s = \"MCMXCIV\""
   ]
  },
  {
   "cell_type": "code",
   "execution_count": null,
   "id": "8570ea7b",
   "metadata": {},
   "outputs": [],
   "source": [
    "def romanToInt(s):\n",
    "    s =s.replace(\"IV\", \"IIII\").replace(\"IX\",\"VIIII\").replace(\"XL\",\"XXXX\")\n",
    "    s = s.replace(\"XC\",\"LXXXX\").replace(\"CD\", \"CCCC\").replace(\"CM\",\"DCCCC\")\n",
    "\n",
    "    value = 0\n",
    "    for x in list(s):\n",
    "        if x == 'M':\n",
    "            value += 1000\n",
    "        elif x == 'D':\n",
    "            value += 500\n",
    "        elif x == 'C':\n",
    "            value += 100\n",
    "        elif x == 'L':\n",
    "            value += 50\n",
    "        elif x == 'X':\n",
    "            value += 10\n",
    "        elif x == 'V':\n",
    "            value += 5\n",
    "        elif x == 'I':\n",
    "            value += 1\n",
    "\n",
    "    return value\n",
    "            "
   ]
  },
  {
   "cell_type": "code",
   "execution_count": null,
   "id": "1be7e816",
   "metadata": {},
   "outputs": [],
   "source": [
    "romanToInt(s)\n",
    "    "
   ]
  },
  {
   "cell_type": "markdown",
   "id": "c9a3823c",
   "metadata": {},
   "source": [
    "### Integer to Roman"
   ]
  },
  {
   "cell_type": "code",
   "execution_count": null,
   "id": "14b45d94",
   "metadata": {},
   "outputs": [],
   "source": [
    "# 1 : I\n",
    "# 4 : IV\n",
    "# 5 : V\n",
    "# 9 : IX\n",
    "# 10 : X\n",
    "# 40 : XL\n",
    "# 50 : L\n",
    "# 90 : XC\n",
    "# 100 : C\n",
    "# 400 : CD\n",
    "# D : 500\n",
    "# 900 : CM\n",
    "# 1000 : M\n",
    "\n",
    "\n",
    "num = 3749"
   ]
  },
  {
   "cell_type": "code",
   "execution_count": null,
   "id": "b67d5955",
   "metadata": {},
   "outputs": [],
   "source": [
    "let_list = ['M', 'CM', 'D', 'CD', 'C', 'XC', 'L', 'XL', 'X', 'IX', 'V', 'IV', 'I']\n",
    "num_list = [1000,900,500,400,100,90,50,40,10,9,5,4,1]\n",
    "i = 0\n",
    "roman_output = \"\"\n",
    "\n",
    "while num != 0:\n",
    "    if (num % num_list[i]) != num:\n",
    "        letter = let_list[i]\n",
    "        print(letter)\n",
    "        count = num // num_list[i]\n",
    "        roman_output += count * letter\n",
    "    num = num % num_list[i]\n",
    "    i += 1\n",
    "    roman_output\n",
    "roman_output"
   ]
  },
  {
   "cell_type": "markdown",
   "id": "e9ceb285",
   "metadata": {},
   "source": [
    "### Length of Last Word"
   ]
  },
  {
   "cell_type": "code",
   "execution_count": null,
   "id": "e712a3ec",
   "metadata": {},
   "outputs": [],
   "source": [
    "# Given a string s consisting of words and spaces,\n",
    "#return the length of the last word in the string.\n",
    "\n",
    "s = \"Hello World\""
   ]
  },
  {
   "cell_type": "code",
   "execution_count": null,
   "id": "2694182e",
   "metadata": {},
   "outputs": [],
   "source": [
    "len(' '.join(s.split()).split()[-1])"
   ]
  },
  {
   "cell_type": "markdown",
   "id": "4a725699",
   "metadata": {},
   "source": [
    "### Longest Common Prefix"
   ]
  },
  {
   "cell_type": "code",
   "execution_count": null,
   "id": "15d5a16f",
   "metadata": {},
   "outputs": [],
   "source": [
    "# Write a function to find the longest common prefix string amongst an array of strings.\n",
    "strs = [\"flower\",\"flow\",\"flight\"]"
   ]
  },
  {
   "cell_type": "code",
   "execution_count": null,
   "id": "cb34ea03",
   "metadata": {},
   "outputs": [],
   "source": [
    "temp = list(zip(*strs))\n",
    "word = ''\n",
    "for x in temp:\n",
    "    if len(set(x)) == 1:\n",
    "        word += set(x).pop()\n",
    "word"
   ]
  },
  {
   "cell_type": "markdown",
   "id": "cd3e3e63",
   "metadata": {},
   "source": [
    "### Reverse Words in a String\n"
   ]
  },
  {
   "cell_type": "code",
   "execution_count": null,
   "id": "58d39c24",
   "metadata": {},
   "outputs": [],
   "source": [
    "# Given an input string s, reverse the order of the words.\n",
    "\n",
    "s = \"the sky is blue\""
   ]
  },
  {
   "cell_type": "code",
   "execution_count": null,
   "id": "6c269e69",
   "metadata": {},
   "outputs": [],
   "source": [
    "s.split()"
   ]
  },
  {
   "cell_type": "code",
   "execution_count": null,
   "id": "03505e4e",
   "metadata": {},
   "outputs": [],
   "source": [
    "temp = ''\n",
    "for x in s.split()[::-1]:\n",
    "    temp += x + ' '\n",
    "temp[:-1]"
   ]
  },
  {
   "cell_type": "markdown",
   "id": "3c91597b",
   "metadata": {},
   "source": [
    "### Zigzag Conversion"
   ]
  },
  {
   "cell_type": "code",
   "execution_count": null,
   "id": "4af5a510",
   "metadata": {},
   "outputs": [],
   "source": [
    "# skip"
   ]
  },
  {
   "cell_type": "markdown",
   "id": "ceb07980",
   "metadata": {},
   "source": [
    "### Find the Index of the First Occurrence in a String"
   ]
  },
  {
   "cell_type": "code",
   "execution_count": null,
   "id": "c1bb73bb",
   "metadata": {},
   "outputs": [],
   "source": [
    "# Given two strings needle and haystack, return the index of the first occurrence\n",
    "# of needle in haystack, or -1 if needle is not part of haystack.\n",
    "\n",
    "haystack = \"sadbutsad\"\n",
    "needle = \"sad\""
   ]
  },
  {
   "cell_type": "code",
   "execution_count": null,
   "id": "a02e87e8",
   "metadata": {},
   "outputs": [],
   "source": [
    "haystack.find(needle)"
   ]
  },
  {
   "cell_type": "code",
   "execution_count": null,
   "id": "51f681d1",
   "metadata": {},
   "outputs": [],
   "source": [
    "# fast\n",
    "for i in range(len(haystack) - len(needle) + 1):\n",
    "    if haystack[i:len(needle)+i] == needle:\n",
    "        print(i)"
   ]
  },
  {
   "cell_type": "code",
   "execution_count": null,
   "id": "9b779776",
   "metadata": {},
   "outputs": [],
   "source": [
    "haystack[:len(needle)]"
   ]
  },
  {
   "cell_type": "markdown",
   "id": "99c2a6a1",
   "metadata": {},
   "source": [
    "### Valid Palindrome\n"
   ]
  },
  {
   "cell_type": "code",
   "execution_count": null,
   "id": "8da7aeb4",
   "metadata": {},
   "outputs": [],
   "source": [
    "# A phrase is a palindrome if, after converting all uppercase letters into\n",
    "# lowercase letters and removing all non-alphanumeric characters,\n",
    "# it reads the same forward and backward. Alphanumeric characters include letters and numbers.\n",
    "\n",
    "s = \"A man, a plan, a canal: Panama\""
   ]
  },
  {
   "cell_type": "code",
   "execution_count": null,
   "id": "e0147426",
   "metadata": {},
   "outputs": [],
   "source": [
    "s = ''.join([x.lower() for x in s if x.isalnum()])\n",
    "valid = True\n",
    "for i in range(len(s)//2):\n",
    "    if s[i] != s[-1-i]:\n",
    "        valid = False\n",
    "        \n",
    "valid\n"
   ]
  },
  {
   "cell_type": "markdown",
   "id": "51d6de28",
   "metadata": {},
   "source": [
    "### Is Subsequence"
   ]
  },
  {
   "cell_type": "code",
   "execution_count": null,
   "id": "46f11b49",
   "metadata": {},
   "outputs": [],
   "source": [
    "# Given two strings s and t, return true if s is a subsequence of t, or false otherwise.\n",
    "\n",
    "s = \"ab\"\n",
    "t = \"ahbgdc\"\n",
    "# s = \"axc\"\n",
    "# t = \"ahbgdc\"\n",
    "s =\"b\"\n",
    "t =\"c\""
   ]
  },
  {
   "cell_type": "code",
   "execution_count": null,
   "id": "4122b0a3",
   "metadata": {},
   "outputs": [],
   "source": [
    "i = 0\n",
    "status = False\n",
    "\n",
    "if len(s) == 0:\n",
    "        print(True)\n",
    "        \n",
    "if len(s) == 1 and len(t):\n",
    "    print(True if t.find(s) > -1 else False)\n",
    "    \n",
    "for x in range(len(t)):\n",
    "    if t[x] == s[i]:\n",
    "        i+=1\n",
    "    if i == len(s):\n",
    "        status = True\n",
    "        break\n",
    "status"
   ]
  },
  {
   "cell_type": "markdown",
   "id": "29db56c8",
   "metadata": {},
   "source": [
    "### Two Sum II - Input Array Is Sorted"
   ]
  },
  {
   "cell_type": "code",
   "execution_count": null,
   "id": "fc03c930",
   "metadata": {},
   "outputs": [],
   "source": [
    "# Given a 1-indexed array of integers numbers that is already sorted in \n",
    "# non-decreasing order, find two numbers such that they add up to a specific\n",
    "# target number. Let these two numbers be numbers[index1] and numbers[index2]\n",
    "# where 1 <= index1 < index2 <= numbers.length.\n",
    "\n",
    "numbers = [2,7,11,15, 18, 21, 33]\n",
    "target = 54"
   ]
  },
  {
   "cell_type": "code",
   "execution_count": null,
   "id": "1438c153",
   "metadata": {},
   "outputs": [],
   "source": [
    "# binary search\n",
    "\n",
    "for i in range(len(numbers)):\n",
    "    low = i + 1\n",
    "    high = len(numbers) - 1\n",
    "    while low <= high:\n",
    "        mid = (low + high) // 2\n",
    "        suma = numbers[i] + numbers[mid]\n",
    "        if suma == target:\n",
    "            print(numbers[i], numbers[mid])\n",
    "            break\n",
    "        elif suma < target:\n",
    "            low = mid + 1\n",
    "        else:\n",
    "            high = mid - 1\n"
   ]
  },
  {
   "cell_type": "code",
   "execution_count": null,
   "id": "d9f8cf06",
   "metadata": {},
   "outputs": [],
   "source": [
    "# two pointer\n",
    "front = 0\n",
    "back = len(numbers) - 1\n",
    "while front < back:\n",
    "    suma = numbers[front] + numbers[back]\n",
    "    if suma == target:\n",
    "        print(front, back)\n",
    "        break\n",
    "    elif suma < target:\n",
    "        front += 1\n",
    "    else:\n",
    "        back -= 1  "
   ]
  },
  {
   "cell_type": "markdown",
   "id": "f5db9975",
   "metadata": {},
   "source": [
    "### Container With Most Water"
   ]
  },
  {
   "cell_type": "code",
   "execution_count": null,
   "id": "b370ea0f",
   "metadata": {},
   "outputs": [],
   "source": [
    "# You are given an integer array height of length n. There are n vertical\n",
    "# lines drawn such that the two endpoints of the ith line are (i, 0) and (i, height[i]).\n",
    "# Find two lines that together with the x-axis form a container,\n",
    "# such that the container contains the most water.\n",
    "# Return the maximum amount of water a container can store.\n",
    "\n",
    "height = [1,1]"
   ]
  },
  {
   "cell_type": "code",
   "execution_count": null,
   "id": "4b1729ce",
   "metadata": {},
   "outputs": [],
   "source": [
    "front = 0\n",
    "back = len(height) - 1\n",
    "x_axis = 0\n",
    "area = 0\n",
    "\n",
    "while front < back:\n",
    "    height_limit = min(height[front], height[back])\n",
    "    x_axis = back - front\n",
    "    if area < height_limit * x_axis:\n",
    "        area = height_limit * x_axis\n",
    "    if height[front] < height[back]:\n",
    "        front += 1\n",
    "    else:\n",
    "        back -= 1\n",
    "\n",
    "print(area)\n",
    "    "
   ]
  },
  {
   "cell_type": "markdown",
   "id": "13161a15",
   "metadata": {},
   "source": [
    "### 3Sum"
   ]
  },
  {
   "cell_type": "code",
   "execution_count": null,
   "id": "40128f53",
   "metadata": {},
   "outputs": [],
   "source": [
    "# Given an integer array nums, return all the triplets \n",
    "# [nums[i], nums[j], nums[k]] such that i != j, i != k, and j != k, \n",
    "# and nums[i] + nums[j] + nums[k] == 0.\n",
    "\n",
    "nums = [-1,0,1,2,-1,-4]\n",
    "# skip"
   ]
  },
  {
   "cell_type": "markdown",
   "id": "85d12ff8",
   "metadata": {},
   "source": [
    "### Minimum Size Subarray Sum"
   ]
  },
  {
   "cell_type": "code",
   "execution_count": 76,
   "id": "a47643fd",
   "metadata": {},
   "outputs": [],
   "source": [
    "# Given an array of positive integers nums and a positive integer target,\n",
    "# return the minimal length of asubarray\n",
    "# whose sum is greater than or equal to target. If there is no such subarray, return 0 instead.\n",
    "\n",
    "target = 7\n",
    "nums = [2,3,1,2,4,3]"
   ]
  },
  {
   "cell_type": "code",
   "execution_count": 77,
   "id": "13a72299",
   "metadata": {},
   "outputs": [
    {
     "data": {
      "text/plain": [
       "[[2, 3, 1, 2],\n",
       " [2, 3, 1, 2, 4],\n",
       " [2, 3, 1, 2, 4, 3],\n",
       " [3, 1, 2, 4],\n",
       " [3, 1, 2, 4, 3],\n",
       " [1, 2, 4],\n",
       " [1, 2, 4, 3],\n",
       " [2, 4, 3],\n",
       " [4, 3]]"
      ]
     },
     "execution_count": 77,
     "metadata": {},
     "output_type": "execute_result"
    }
   ],
   "source": [
    "selections = []\n",
    "back = len(nums)\n",
    "for i in range(len(nums)):\n",
    "    \n",
    "    if nums[i] >= target:\n",
    "        selections.append([nums[i]])\n",
    "    front = i + 1\n",
    "    while front <= back:\n",
    "        suma = sum(nums[i:front])\n",
    "        if suma >= target:\n",
    "            selections.append(nums[i:front])\n",
    "            \n",
    "        front +=1\n",
    "\n",
    "selections"
   ]
  },
  {
   "cell_type": "markdown",
   "id": "979a9dfa",
   "metadata": {},
   "source": [
    "### Longest Substring Without Repeating Characters"
   ]
  },
  {
   "cell_type": "code",
   "execution_count": 194,
   "id": "104caaf7",
   "metadata": {},
   "outputs": [],
   "source": [
    "# Given a string s, find the length of the longest\n",
    "# substring without repeating characters.\n",
    "\n",
    "s = \"abcabcbb\"\n",
    "# skip"
   ]
  },
  {
   "cell_type": "markdown",
   "id": "a201c270",
   "metadata": {},
   "source": [
    "### Ransom Note"
   ]
  },
  {
   "cell_type": "code",
   "execution_count": 81,
   "id": "820bd28d",
   "metadata": {},
   "outputs": [],
   "source": [
    "# Given two strings ransomNote and magazine, return true if ransomNote \n",
    "# can be constructed by using the letters from magazine and false otherwise.\n",
    "\n",
    "ransomNote = \"aa\"\n",
    "magazine = \"aba\""
   ]
  },
  {
   "cell_type": "code",
   "execution_count": 91,
   "id": "14c57bd3",
   "metadata": {},
   "outputs": [],
   "source": [
    "def canConstruct(ransomNote, magazine):\n",
    "    dictionary = {}\n",
    "\n",
    "    for char in magazine:\n",
    "        if char not in dictionary:\n",
    "            dictionary[char] = 1\n",
    "        else:\n",
    "            dictionary[char] += 1\n",
    "    \n",
    "    for char in ransomNote:\n",
    "        if char in dictionary and dictionary[char] > 0:\n",
    "            dictionary[char] -= 1\n",
    "        else:\n",
    "            return False\n",
    "\n",
    "    return True\n"
   ]
  },
  {
   "cell_type": "code",
   "execution_count": 92,
   "id": "61d1392a",
   "metadata": {},
   "outputs": [
    {
     "data": {
      "text/plain": [
       "True"
      ]
     },
     "execution_count": 92,
     "metadata": {},
     "output_type": "execute_result"
    }
   ],
   "source": [
    "canConstruct(ransomNote, magazine)"
   ]
  },
  {
   "cell_type": "markdown",
   "id": "8c9c6188",
   "metadata": {},
   "source": [
    "### 205. Isomorphic Strings\n"
   ]
  },
  {
   "cell_type": "code",
   "execution_count": 111,
   "id": "eaba1c8d",
   "metadata": {},
   "outputs": [],
   "source": [
    "# Given two strings s and t, determine if they are isomorphic.\n",
    "# Two strings s and t are isomorphic if the characters in s can be replaced to get t.\n",
    "# All occurrences of a character must be replaced with another character\n",
    "# while preserving the order of characters. No two characters may map to\n",
    "# the same character, but a character may map to itself.\n",
    "\n",
    "s = \"egg\"\n",
    "t = \"add\"\n",
    "s = \"paper\"\n",
    "t = \"title\""
   ]
  },
  {
   "cell_type": "code",
   "execution_count": 122,
   "id": "248e9a81",
   "metadata": {},
   "outputs": [],
   "source": [
    "def isIsomorphic(s, t):\n",
    "    dictionary1 = {}\n",
    "    dictionary2 = {}\n",
    "\n",
    "    for i in range(len(s)):\n",
    "        if s[i] not in dictionary1:\n",
    "            dictionary1[s[i]] = 1\n",
    "        else:\n",
    "            dictionary1[s[i]] += 1\n",
    "\n",
    "        if t[i] not in dictionary2:\n",
    "            dictionary2[t[i]] = 1\n",
    "        else:\n",
    "            dictionary2[t[i]] += 1\n",
    "            \n",
    "    return list(dictionary1.values()) == list(dictionary2.values())"
   ]
  },
  {
   "cell_type": "markdown",
   "id": "f85c9de8",
   "metadata": {},
   "source": [
    "### 290. Word Pattern"
   ]
  },
  {
   "cell_type": "code",
   "execution_count": 268,
   "id": "5f1b03b9",
   "metadata": {},
   "outputs": [],
   "source": [
    "# Given a pattern and a string s, find if s follows the same pattern.\n",
    "# Here follow means a full match, such that there is a bijection between\n",
    "# a letter in pattern and a non-empty word in s.\n",
    "\n",
    "pattern = \"abba\"\n",
    "s = \"dog cat cat dog\"\n",
    "# pattern =\"abc\"\n",
    "# s =\"b c a\"\n",
    "pattern =\"abba\"\n",
    "s =\"dog cat cat dog\""
   ]
  },
  {
   "cell_type": "code",
   "execution_count": 269,
   "id": "a8a36d75",
   "metadata": {},
   "outputs": [
    {
     "data": {
      "text/plain": [
       "False"
      ]
     },
     "execution_count": 269,
     "metadata": {},
     "output_type": "execute_result"
    }
   ],
   "source": [
    "map(s.find, s) == (pattern.index, pattern)"
   ]
  },
  {
   "cell_type": "code",
   "execution_count": null,
   "id": "778ffe32",
   "metadata": {},
   "outputs": [],
   "source": []
  },
  {
   "cell_type": "code",
   "execution_count": null,
   "id": "cd002794",
   "metadata": {},
   "outputs": [],
   "source": [
    "dict1 = {}"
   ]
  },
  {
   "cell_type": "code",
   "execution_count": null,
   "id": "1d8a0ac2",
   "metadata": {},
   "outputs": [],
   "source": []
  }
 ],
 "metadata": {
  "kernelspec": {
   "display_name": "Python 3 (ipykernel)",
   "language": "python",
   "name": "python3"
  },
  "language_info": {
   "codemirror_mode": {
    "name": "ipython",
    "version": 3
   },
   "file_extension": ".py",
   "mimetype": "text/x-python",
   "name": "python",
   "nbconvert_exporter": "python",
   "pygments_lexer": "ipython3",
   "version": "3.9.12"
  }
 },
 "nbformat": 4,
 "nbformat_minor": 5
}
